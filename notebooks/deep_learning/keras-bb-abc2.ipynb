{
 "cells": [
  {
   "cell_type": "code",
   "execution_count": 1,
   "metadata": {
    "collapsed": false
   },
   "outputs": [
    {
     "name": "stderr",
     "output_type": "stream",
     "text": [
      "Using Theano backend.\n"
     ]
    }
   ],
   "source": [
    "from keras.models import Sequential, model_from_json\n",
    "from keras.layers.core import Dense, Activation, Dropout\n",
    "import numpy as np\n",
    "import time"
   ]
  },
  {
   "cell_type": "code",
   "execution_count": 4,
   "metadata": {
    "collapsed": false
   },
   "outputs": [],
   "source": [
    "model = Sequential()\n",
    "model.add(Dense(128, input_dim=18, activation='linear'))\n",
    "model.add(Dense(256, activation='tanh'))\n",
    "model.add(Dropout(0.2))\n",
    "model.add(Dense(256, activation='tanh'))\n",
    "model.add(Dropout(0.2))\n",
    "model.add(Dense(256, init='uniform', activation='linear'))\n",
    "model.add(Dense(1, activation='linear'))\n",
    "model.compile(loss='mse', optimizer='rmsprop')"
   ]
  },
  {
   "cell_type": "code",
   "execution_count": null,
   "metadata": {
    "collapsed": false
   },
   "outputs": [],
   "source": [
    "model.summary()"
   ]
  },
  {
   "cell_type": "code",
   "execution_count": 7,
   "metadata": {
    "collapsed": true
   },
   "outputs": [],
   "source": [
    "bmanDataName = \"database.csv\""
   ]
  },
  {
   "cell_type": "code",
   "execution_count": 8,
   "metadata": {
    "collapsed": false
   },
   "outputs": [],
   "source": [
    "bmanData = np.loadtxt(bmanDataName, delimiter=\",\", skiprows=1)"
   ]
  },
  {
   "cell_type": "code",
   "execution_count": 8,
   "metadata": {
    "collapsed": false
   },
   "outputs": [
    {
     "data": {
      "text/plain": [
       "array([[ 9.        ,  0.78539816, -0.78539816, ..., -0.26179939,\n",
       "        -0.26179939,  0.52359878],\n",
       "       [ 6.        ,  0.26179939,  0.34906585, ..., -0.26179939,\n",
       "         0.26179939, -0.52359878],\n",
       "       [ 4.        ,  0.26179939,  0.34906585, ..., -0.52359878,\n",
       "         0.        , -0.26179939],\n",
       "       ..., \n",
       "       [ 9.        ,  0.26179939,  0.78539816, ...,  0.26179939,\n",
       "         0.26179939, -0.26179939],\n",
       "       [ 4.        , -0.78539816,  0.17453293, ..., -0.52359878,\n",
       "         0.        ,  0.52359878],\n",
       "       [ 8.        ,  0.26179939,  0.17453293, ...,  0.26179939,\n",
       "        -0.26179939,  0.52359878]])"
      ]
     },
     "execution_count": 8,
     "metadata": {},
     "output_type": "execute_result"
    }
   ],
   "source": [
    "bmanData"
   ]
  },
  {
   "cell_type": "code",
   "execution_count": 9,
   "metadata": {
    "collapsed": false
   },
   "outputs": [
    {
     "data": {
      "text/plain": [
       "(100000, 19)"
      ]
     },
     "execution_count": 9,
     "metadata": {},
     "output_type": "execute_result"
    }
   ],
   "source": [
    "bmanData.shape"
   ]
  },
  {
   "cell_type": "code",
   "execution_count": 10,
   "metadata": {
    "collapsed": false
   },
   "outputs": [],
   "source": [
    "rawData = bmanData[:,1:]\n",
    "rawLabels = bmanData[:,0]\n",
    "\n",
    "indices = np.arange(len(rawLabels))\n",
    "np.random.shuffle(indices)\n",
    "\n",
    "split = 0.8 # how much of the data is training. split = 0.8 means 80% train, 20% test\n",
    "splitIdx = int(round(len(rawLabels)*0.8))\n",
    "\n",
    "X_train = rawData[indices[:splitIdx]]\n",
    "y_train = rawLabels[indices[:splitIdx]]\n",
    "\n",
    "X_test = rawData[indices[splitIdx:]]\n",
    "y_test = rawLabels[indices[splitIdx:]]\n"
   ]
  },
  {
   "cell_type": "code",
   "execution_count": null,
   "metadata": {
    "collapsed": false
   },
   "outputs": [],
   "source": [
    "print (X_train.shape)\n",
    "print (y_train.shape)\n",
    "\n",
    "print (X_test.shape)\n",
    "print (y_test.shape)"
   ]
  },
  {
   "cell_type": "code",
   "execution_count": 12,
   "metadata": {
    "collapsed": false
   },
   "outputs": [],
   "source": [
    "epochs = 200\n",
    "batch_size = 64\n",
    "val_split = 0.2\n"
   ]
  },
  {
   "cell_type": "code",
   "execution_count": null,
   "metadata": {
    "collapsed": false,
    "scrolled": true
   },
   "outputs": [],
   "source": [
    "hist = model.fit(X_train, y_train, nb_epoch=epochs, batch_size=batch_size, validation_split=val_split)"
   ]
  },
  {
   "cell_type": "code",
   "execution_count": 20,
   "metadata": {
    "collapsed": false
   },
   "outputs": [
    {
     "name": "stdout",
     "output_type": "stream",
     "text": [
      "20000/20000 [==============================] - 1s     \n"
     ]
    }
   ],
   "source": [
    "score = model.evaluate(X_test, y_test, batch_size=batch_size)"
   ]
  },
  {
   "cell_type": "code",
   "execution_count": 21,
   "metadata": {
    "collapsed": false
   },
   "outputs": [
    {
     "data": {
      "text/plain": [
       "0.14295843131542205"
      ]
     },
     "execution_count": 21,
     "metadata": {},
     "output_type": "execute_result"
    }
   ],
   "source": [
    "score # this gives the mean squared error over the test set"
   ]
  },
  {
   "cell_type": "code",
   "execution_count": 2,
   "metadata": {
    "collapsed": true
   },
   "outputs": [],
   "source": [
    "modelName = \"bb-abc\"\n",
    "modelVersion = 1"
   ]
  },
  {
   "cell_type": "code",
   "execution_count": 5,
   "metadata": {
    "collapsed": false
   },
   "outputs": [
    {
     "name": "stdout",
     "output_type": "stream",
     "text": [
      "[WARNING] model-bb-abc-1.h5 already exists - overwrite? [y/n]y\n",
      "[TIP] Next time specify overwrite=True in save_weights!\n"
     ]
    }
   ],
   "source": [
    "open(\"model-\"+modelName+'-'+str(modelVersion)+'.json', 'w').write(model.to_json())\n",
    "model.save_weights(\"model-\"+modelName+'-'+str(modelVersion)+'.h5')"
   ]
  },
  {
   "cell_type": "code",
   "execution_count": 19,
   "metadata": {
    "collapsed": false
   },
   "outputs": [],
   "source": [
    "# @Baptiste, if you wanna load the model I trained \n",
    "# and play around with it, use those two lines, \n",
    "# instead of the block way up above, \n",
    "# with the model=Sequential()... and so on\n",
    "\n",
    "modelName = \"bb-abc\"\n",
    "modelVersion = 1\n",
    "\n",
    "model = model_from_json(open(\"model-\"+modelName+'-'+str(modelVersion)+'.json').read())\n",
    "model.load_weights(\"model-\"+modelName+'-'+str(modelVersion)+'.h5')\n",
    "model.compile(loss='mse', optimizer='rmsprop')"
   ]
  },
  {
   "cell_type": "code",
   "execution_count": 12,
   "metadata": {
    "collapsed": true
   },
   "outputs": [],
   "source": [
    "data_test = [X_test[0:1]]"
   ]
  },
  {
   "cell_type": "code",
   "execution_count": 18,
   "metadata": {
    "collapsed": false
   },
   "outputs": [
    {
     "name": "stdout",
     "output_type": "stream",
     "text": [
      "0.205019950867\n"
     ]
    }
   ],
   "source": [
    "start = time.time()\n",
    "for i in range(1000):\n",
    "    model.predict(data_test) # this uses the model to predict the output for the first element in the test set\n",
    "print time.time() - start"
   ]
  },
  {
   "cell_type": "code",
   "execution_count": null,
   "metadata": {
    "collapsed": false
   },
   "outputs": [],
   "source": [
    "print y_test[0] # this is the actual test set output"
   ]
  },
  {
   "cell_type": "code",
   "execution_count": 19,
   "metadata": {
    "collapsed": false
   },
   "outputs": [
    {
     "data": {
      "text/plain": [
       "[array([[ 0.78539816, -0.78539816,  0.78539816, -0.26179939,  1.04719755,\n",
       "         -0.26179939, -0.52359878, -0.52359878,  0.        , -0.78539816,\n",
       "          1.57079633,  0.34906585,  2.53072742, -2.53072742, -0.26179939,\n",
       "          0.52359878,  0.26179939,  0.26179939]])]"
      ]
     },
     "execution_count": 19,
     "metadata": {},
     "output_type": "execute_result"
    }
   ],
   "source": [
    "data_test"
   ]
  },
  {
   "cell_type": "code",
   "execution_count": null,
   "metadata": {
    "collapsed": true
   },
   "outputs": [],
   "source": []
  }
 ],
 "metadata": {
  "kernelspec": {
   "display_name": "Python 2",
   "language": "python",
   "name": "python2"
  },
  "language_info": {
   "codemirror_mode": {
    "name": "ipython",
    "version": 2
   },
   "file_extension": ".py",
   "mimetype": "text/x-python",
   "name": "python",
   "nbconvert_exporter": "python",
   "pygments_lexer": "ipython2",
   "version": "2.7.6"
  }
 },
 "nbformat": 4,
 "nbformat_minor": 0
}
