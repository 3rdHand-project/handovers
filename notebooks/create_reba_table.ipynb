{
 "metadata": {
  "name": ""
 },
 "nbformat": 3,
 "nbformat_minor": 0,
 "worksheets": [
  {
   "cells": [
    {
     "cell_type": "code",
     "collapsed": false,
     "input": [
      "import rospy\n",
      "from reba_optim.srv import RebaPose, RebaPoseRequest\n",
      "import tf\n",
      "import os\n",
      "from reba_optim.tools.interpolation import linear_3d_interpolation\n",
      "import transformations"
     ],
     "language": "python",
     "metadata": {},
     "outputs": [],
     "prompt_number": 1
    },
    {
     "cell_type": "code",
     "collapsed": false,
     "input": [
      "rospy.init_node('create_reba_table')"
     ],
     "language": "python",
     "metadata": {},
     "outputs": [],
     "prompt_number": 2
    },
    {
     "cell_type": "code",
     "collapsed": false,
     "input": [
      "reba_service = rospy.ServiceProxy('/reba/get_reba', RebaPose)\n",
      "rospy.wait_for_service('/reba/get_reba')\n",
      "tfl = tf.TransformListener()"
     ],
     "language": "python",
     "metadata": {},
     "outputs": [],
     "prompt_number": 3
    },
    {
     "cell_type": "markdown",
     "metadata": {},
     "source": [
      "## Defintion of functions"
     ]
    },
    {
     "cell_type": "code",
     "collapsed": false,
     "input": [
      "def get_handover_location(hip_pose, srv):\n",
      "    reba_request = RebaPoseRequest()\n",
      "    reba_request.hip_pose = transformations.list_to_pose(hip_pose).pose\n",
      "    hand_over_location = srv(reba_request).hand_over_location\n",
      "    return hand_over_location"
     ],
     "language": "python",
     "metadata": {},
     "outputs": [],
     "prompt_number": 4
    },
    {
     "cell_type": "code",
     "collapsed": false,
     "input": [
      "def convert_to_string(pose):\n",
      "    # create the string of the pose to write in the textfile\n",
      "    pose_str = ''\n",
      "    for lists in pose:\n",
      "        for value in lists:\n",
      "            pose_str += str(value) + '\\t' \n",
      "    pose_str += '\\n'\n",
      "    return pose_str"
     ],
     "language": "python",
     "metadata": {},
     "outputs": [],
     "prompt_number": 14
    },
    {
     "cell_type": "markdown",
     "metadata": {},
     "source": [
      "## Create table of hip positions "
     ]
    },
    {
     "cell_type": "code",
     "collapsed": false,
     "input": [
      "hip_corners = []\n",
      "# get the 4 corners of the grid by asking the human to move between them\n",
      "os.system('beep')\n",
      "for i in range(4):\n",
      "    rospy.sleep(5)\n",
      "    hip_corners.append(tfl.lookupTransform('/vrep_frame', '/human/hip', rospy.Time(0)))\n",
      "    os.system('beep')\n",
      "# keep the same rotation\n",
      "rotation = hip_corners[0][1] "
     ],
     "language": "python",
     "metadata": {},
     "outputs": [],
     "prompt_number": 5
    },
    {
     "cell_type": "code",
     "collapsed": false,
     "input": [
      "hip_pose_grid = []\n",
      "# fill the hip grid by interpolation\n",
      "nb_cols = 10\n",
      "nb_rows = 4\n",
      "l1 = linear_3d_interpolation(hip_corners[0][0], hip_corners[2][0], nb_rows)\n",
      "l2 = linear_3d_interpolation(hip_corners[1][0], hip_corners[3][0], nb_rows)\n",
      "for i in range(nb_rows):\n",
      "    row = linear_3d_interpolation(l1[i], l2[i], nb_cols)\n",
      "    hip_pose_grid.append([])\n",
      "    for trans in row:\n",
      "        hip_pose_grid[i].append([trans,rotation])"
     ],
     "language": "python",
     "metadata": {},
     "outputs": [],
     "prompt_number": 7
    },
    {
     "cell_type": "markdown",
     "metadata": {},
     "source": [
      "## Calculate corresponding handover table"
     ]
    },
    {
     "cell_type": "code",
     "collapsed": false,
     "input": [
      "hand_over_grid = []\n",
      "for hip_vectors in hip_pose_grid:\n",
      "    for hip_poses in hip_vectors:\n",
      "        pose = get_handover_location(hip_poses, reba_service)\n",
      "        hand_over_grid.append(transformations.pose_to_list(pose))"
     ],
     "language": "python",
     "metadata": {},
     "outputs": [],
     "prompt_number": 8
    },
    {
     "cell_type": "markdown",
     "metadata": {},
     "source": [
      "## Pulbish them to check result in Rviz"
     ]
    },
    {
     "cell_type": "code",
     "collapsed": false,
     "input": [
      "tfb = tf.TransformBroadcaster()"
     ],
     "language": "python",
     "metadata": {},
     "outputs": [],
     "prompt_number": 11
    },
    {
     "cell_type": "code",
     "collapsed": false,
     "input": [
      "while not rospy.is_shutdown():\n",
      "    for i in range(len(hand_over_grid)):\n",
      "        tfb.sendTransform(hand_over_grid[i][0],hand_over_grid[i][1],rospy.Time.now(),'/vrep/handover'+str(i),'/vrep_frame')"
     ],
     "language": "python",
     "metadata": {},
     "outputs": [
      {
       "ename": "KeyboardInterrupt",
       "evalue": "",
       "output_type": "pyerr",
       "traceback": [
        "\u001b[0;31m---------------------------------------------------------------------------\u001b[0m\n\u001b[0;31mKeyboardInterrupt\u001b[0m                         Traceback (most recent call last)",
        "\u001b[0;32m<ipython-input-13-a17112a77157>\u001b[0m in \u001b[0;36m<module>\u001b[0;34m()\u001b[0m\n\u001b[1;32m      1\u001b[0m \u001b[0;32mwhile\u001b[0m \u001b[0;32mnot\u001b[0m \u001b[0mrospy\u001b[0m\u001b[0;34m.\u001b[0m\u001b[0mis_shutdown\u001b[0m\u001b[0;34m(\u001b[0m\u001b[0;34m)\u001b[0m\u001b[0;34m:\u001b[0m\u001b[0;34m\u001b[0m\u001b[0m\n\u001b[1;32m      2\u001b[0m     \u001b[0;32mfor\u001b[0m \u001b[0mi\u001b[0m \u001b[0;32min\u001b[0m \u001b[0mrange\u001b[0m\u001b[0;34m(\u001b[0m\u001b[0mlen\u001b[0m\u001b[0;34m(\u001b[0m\u001b[0mhand_over_grid\u001b[0m\u001b[0;34m)\u001b[0m\u001b[0;34m)\u001b[0m\u001b[0;34m:\u001b[0m\u001b[0;34m\u001b[0m\u001b[0m\n\u001b[0;32m----> 3\u001b[0;31m         \u001b[0mtfb\u001b[0m\u001b[0;34m.\u001b[0m\u001b[0msendTransform\u001b[0m\u001b[0;34m(\u001b[0m\u001b[0mhand_over_grid\u001b[0m\u001b[0;34m[\u001b[0m\u001b[0mi\u001b[0m\u001b[0;34m]\u001b[0m\u001b[0;34m[\u001b[0m\u001b[0;36m0\u001b[0m\u001b[0;34m]\u001b[0m\u001b[0;34m,\u001b[0m\u001b[0mhand_over_grid\u001b[0m\u001b[0;34m[\u001b[0m\u001b[0mi\u001b[0m\u001b[0;34m]\u001b[0m\u001b[0;34m[\u001b[0m\u001b[0;36m1\u001b[0m\u001b[0;34m]\u001b[0m\u001b[0;34m,\u001b[0m\u001b[0mrospy\u001b[0m\u001b[0;34m.\u001b[0m\u001b[0mTime\u001b[0m\u001b[0;34m.\u001b[0m\u001b[0mnow\u001b[0m\u001b[0;34m(\u001b[0m\u001b[0;34m)\u001b[0m\u001b[0;34m,\u001b[0m\u001b[0;34m'/vrep/handover'\u001b[0m\u001b[0;34m+\u001b[0m\u001b[0mstr\u001b[0m\u001b[0;34m(\u001b[0m\u001b[0mi\u001b[0m\u001b[0;34m)\u001b[0m\u001b[0;34m,\u001b[0m\u001b[0;34m'/vrep_frame'\u001b[0m\u001b[0;34m)\u001b[0m\u001b[0;34m\u001b[0m\u001b[0m\n\u001b[0m",
        "\u001b[0;32m/opt/ros/indigo/lib/python2.7/dist-packages/tf/broadcaster.pyc\u001b[0m in \u001b[0;36msendTransform\u001b[0;34m(self, translation, rotation, time, child, parent)\u001b[0m\n\u001b[1;32m     70\u001b[0m         \u001b[0mt\u001b[0m\u001b[0;34m.\u001b[0m\u001b[0mtransform\u001b[0m\u001b[0;34m.\u001b[0m\u001b[0mrotation\u001b[0m\u001b[0;34m.\u001b[0m\u001b[0mw\u001b[0m \u001b[0;34m=\u001b[0m \u001b[0mrotation\u001b[0m\u001b[0;34m[\u001b[0m\u001b[0;36m3\u001b[0m\u001b[0;34m]\u001b[0m\u001b[0;34m\u001b[0m\u001b[0m\n\u001b[1;32m     71\u001b[0m \u001b[0;34m\u001b[0m\u001b[0m\n\u001b[0;32m---> 72\u001b[0;31m         \u001b[0mself\u001b[0m\u001b[0;34m.\u001b[0m\u001b[0msendTransformMessage\u001b[0m\u001b[0;34m(\u001b[0m\u001b[0mt\u001b[0m\u001b[0;34m)\u001b[0m\u001b[0;34m\u001b[0m\u001b[0m\n\u001b[0m\u001b[1;32m     73\u001b[0m \u001b[0;34m\u001b[0m\u001b[0m\n\u001b[1;32m     74\u001b[0m     \u001b[0;32mdef\u001b[0m \u001b[0msendTransformMessage\u001b[0m\u001b[0;34m(\u001b[0m\u001b[0mself\u001b[0m\u001b[0;34m,\u001b[0m \u001b[0mtransform\u001b[0m\u001b[0;34m)\u001b[0m\u001b[0;34m:\u001b[0m\u001b[0;34m\u001b[0m\u001b[0m\n",
        "\u001b[0;31mKeyboardInterrupt\u001b[0m: "
       ]
      }
     ],
     "prompt_number": 13
    },
    {
     "cell_type": "markdown",
     "metadata": {},
     "source": [
      "## Write result to a text file"
     ]
    },
    {
     "cell_type": "code",
     "collapsed": false,
     "input": [
      "pose_str = ''\n",
      "for pose in hand_over_grid:\n",
      "    pose_str += convert_to_string(pose)\n",
      "# write the string to the file\n",
      "with open('/tmp/reba_table.txt', 'w') as f:\n",
      "    f.write(pose_str)"
     ],
     "language": "python",
     "metadata": {},
     "outputs": [],
     "prompt_number": 19
    },
    {
     "cell_type": "code",
     "collapsed": false,
     "input": [],
     "language": "python",
     "metadata": {},
     "outputs": []
    }
   ],
   "metadata": {}
  }
 ]
}