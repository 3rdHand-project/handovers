{
 "metadata": {
  "name": ""
 },
 "nbformat": 3,
 "nbformat_minor": 0,
 "worksheets": [
  {
   "cells": [
    {
     "cell_type": "code",
     "collapsed": false,
     "input": [
      "import rospy, baxter_commander, json\n",
      "import numpy as np\n",
      "import tf\n",
      "import time\n",
      "from scipy.optimize import minimize\n",
      "import transformations\n",
      "import rospkg\n",
      "import yaml"
     ],
     "language": "python",
     "metadata": {},
     "outputs": [],
     "prompt_number": 1
    },
    {
     "cell_type": "code",
     "collapsed": false,
     "input": [
      "rospy.init_node('output_joint_positions')"
     ],
     "language": "python",
     "metadata": {},
     "outputs": [],
     "prompt_number": 2
    },
    {
     "cell_type": "code",
     "collapsed": false,
     "input": [
      "rospack = rospkg.RosPack()"
     ],
     "language": "python",
     "metadata": {},
     "outputs": [],
     "prompt_number": 3
    },
    {
     "cell_type": "code",
     "collapsed": false,
     "input": [
      "right = baxter_commander.ArmCommander('right')"
     ],
     "language": "python",
     "metadata": {},
     "outputs": [
      {
       "output_type": "stream",
       "stream": "stdout",
       "text": [
        "[INFO] [WallTime: 1447682806.574467] ArmCommander(right): Waiting for action server /robot/limb/right/follow_joint_trajectory...\n"
       ]
      }
     ],
     "prompt_number": 3
    },
    {
     "cell_type": "markdown",
     "metadata": {},
     "source": [
      "## Definition of functions"
     ]
    },
    {
     "cell_type": "code",
     "collapsed": false,
     "input": [
      "def list_to_matrix(pose):\n",
      "    matrix = tf.transformations.quaternion_matrix(pose[1])\n",
      "    matrix[0][3] = pose[0][0]\n",
      "    matrix[1][3] = pose[0][1]\n",
      "    matrix[2][3] = pose[0][2]\n",
      "    return matrix\n",
      "\n",
      "def matrix_to_list(matrix):\n",
      "    return [tf.transformations.translation_from_matrix(matrix), tf.transformations.quaternion_from_matrix(matrix)]\n",
      "\n",
      "def appender(mat):\n",
      "    return np.append(mat, [0., 0., 0., 1.]).reshape(4,4)\n",
      "\n",
      "def result_to_calibration_matrix(result):\n",
      "    calibration_matrix = transformations.inverse_transform(matrix_to_list(result))\n",
      "    return [map(float, calibration_matrix[0]), map(float, calibration_matrix[1].tolist())]"
     ],
     "language": "python",
     "metadata": {},
     "outputs": [],
     "prompt_number": 4
    },
    {
     "cell_type": "markdown",
     "metadata": {},
     "source": [
      "### Cost function for the optimization"
     ]
    },
    {
     "cell_type": "code",
     "collapsed": false,
     "input": [
      "def calculate_cost(A,B, coords_robot, coords_opt):\n",
      "    norm = 0.\n",
      "    # precision error\n",
      "    for i in range(len(coords_robot)):\n",
      "        robot = coords_robot[i]\n",
      "        opt = coords_opt[i]\n",
      "        product = np.dot(robot, B)\n",
      "        product = np.dot(A, product)\n",
      "        \n",
      "        norm += np.linalg.norm(opt-product)\n",
      "    \n",
      "    # rotation conditions\n",
      "    rot_a = A[:-1,:-1]\n",
      "    rot_b = B[:-1,:-1]\n",
      "    id_cost_a = np.linalg.norm(np.dot(rot_a, rot_a.T)-np.eye(3, 3))\n",
      "    id_cost_b = np.linalg.norm(np.dot(rot_b, rot_b.T)-np.eye(3, 3))\n",
      "    det_cost_a = abs(np.linalg.det(rot_a)-1)\n",
      "    det_cost_b = abs(np.linalg.det(rot_b)-1)\n",
      "    \n",
      "    # return the detail of total cost\n",
      "    return norm, id_cost_a, id_cost_b, det_cost_a, det_cost_b"
     ],
     "language": "python",
     "metadata": {},
     "outputs": [],
     "prompt_number": 5
    },
    {
     "cell_type": "code",
     "collapsed": false,
     "input": [
      "def fitfunc(p, coords_robot, coords_opt):\n",
      "    A = np.append(p[:12], [0., 0., 0., 1.]).reshape(4,4)\n",
      "    B = np.append(p[12:], [0., 0., 0., 1.]).reshape(4,4)\n",
      "    norm, id_cost_a, id_cost_b, det_cost_a, det_cost_b = calculate_cost(A, B, coords_robot, coords_opt)\n",
      "    cost = 20*norm + id_cost_a + id_cost_b + det_cost_a + det_cost_b\n",
      "\n",
      "    return cost"
     ],
     "language": "python",
     "metadata": {},
     "outputs": [],
     "prompt_number": 6
    },
    {
     "cell_type": "markdown",
     "metadata": {},
     "source": [
      "### Functions for quality checking"
     ]
    },
    {
     "cell_type": "code",
     "collapsed": false,
     "input": [
      "def calculate_position_error(A, B, coords_robot, coords_opt):\n",
      "    norm = 0.\n",
      "    # precision error\n",
      "    for i in range(len(coords_robot)):\n",
      "        robot = list_to_matrix(coords_robot[i])\n",
      "        opt = list_to_matrix(coords_opt[i])\n",
      "        product = np.dot(robot, B)\n",
      "        product = np.dot(A, product)\n",
      "        norm += np.linalg.norm(opt[:,-1]-product[:,-1])\n",
      "    return norm"
     ],
     "language": "python",
     "metadata": {},
     "outputs": [],
     "prompt_number": 7
    },
    {
     "cell_type": "markdown",
     "metadata": {},
     "source": [
      "## Record Points"
     ]
    },
    {
     "cell_type": "code",
     "collapsed": false,
     "input": [
      "points = {\"tf\": [], \"joints\":[]}\n",
      "mat_robot = []\n",
      "while True:\n",
      "    entry = raw_input('Press Enter to record a new point or Q-Enter to exit: ')\n",
      "    if entry!='':\n",
      "        break\n",
      "    fk = right.endpoint_pose()\n",
      "    joints = baxter_commander.persistence.statetodict(right.get_current_state())\n",
      "    mat_robot.append(list_to_matrix([fk[0],fk[1]]))\n",
      "    points[\"tf\"].append(fk[0]+fk[1])\n",
      "    points[\"joints\"].append(joints[\"position\"])"
     ],
     "language": "python",
     "metadata": {},
     "outputs": [
      {
       "name": "stdout",
       "output_type": "stream",
       "stream": "stdout",
       "text": [
        "Press Enter to record a new point or Q-Enter to exit: \n"
       ]
      },
      {
       "name": "stdout",
       "output_type": "stream",
       "stream": "stdout",
       "text": [
        "Press Enter to record a new point or Q-Enter to exit: \n"
       ]
      },
      {
       "name": "stdout",
       "output_type": "stream",
       "stream": "stdout",
       "text": [
        "Press Enter to record a new point or Q-Enter to exit: \n"
       ]
      },
      {
       "name": "stdout",
       "output_type": "stream",
       "stream": "stdout",
       "text": [
        "Press Enter to record a new point or Q-Enter to exit: \n"
       ]
      },
      {
       "name": "stdout",
       "output_type": "stream",
       "stream": "stdout",
       "text": [
        "Press Enter to record a new point or Q-Enter to exit: \n"
       ]
      },
      {
       "name": "stdout",
       "output_type": "stream",
       "stream": "stdout",
       "text": [
        "Press Enter to record a new point or Q-Enter to exit: \n"
       ]
      },
      {
       "name": "stdout",
       "output_type": "stream",
       "stream": "stdout",
       "text": [
        "Press Enter to record a new point or Q-Enter to exit: q\n"
       ]
      }
     ],
     "prompt_number": 22
    },
    {
     "cell_type": "code",
     "collapsed": false,
     "input": [
      "points = {\"tf\": [], \"joints\":[]}\n",
      "mat_robot = []\n",
      "for i in range(10):\n",
      "    goal = right.get_random_pose()\n",
      "    # display only first\n",
      "    right.move_to_controlled(goal, True)\n",
      "    entry = raw_input('Is the trajectory correct ? [Y]/N ')\n",
      "    if entry!='N':\n",
      "        # now execute the trajectory\n",
      "        right.move_to_controlled(goal)\n",
      "        fk = right.endpoint_pose()\n",
      "        joints = baxter_commander.persistence.statetodict(right.get_current_state())\n",
      "        mat_robot.append(list_to_matrix([fk[0],fk[1]]))\n",
      "        points[\"tf\"].append(fk[0]+fk[1])\n",
      "        points[\"joints\"].append(joints[\"position\"])"
     ],
     "language": "python",
     "metadata": {},
     "outputs": [
      {
       "name": "stdout",
       "output_type": "stream",
       "stream": "stdout",
       "text": [
        "Is the trajectory correct ? [Y]/N \n"
       ]
      },
      {
       "name": "stdout",
       "output_type": "stream",
       "stream": "stdout",
       "text": [
        "Is the trajectory correct ? [Y]/N \n"
       ]
      },
      {
       "name": "stdout",
       "output_type": "stream",
       "stream": "stdout",
       "text": [
        "Is the trajectory correct ? [Y]/N \n"
       ]
      },
      {
       "name": "stdout",
       "output_type": "stream",
       "stream": "stdout",
       "text": [
        "Is the trajectory correct ? [Y]/N \n"
       ]
      },
      {
       "name": "stdout",
       "output_type": "stream",
       "stream": "stdout",
       "text": [
        "Is the trajectory correct ? [Y]/N \n"
       ]
      },
      {
       "name": "stdout",
       "output_type": "stream",
       "stream": "stdout",
       "text": [
        "Is the trajectory correct ? [Y]/N \n"
       ]
      },
      {
       "name": "stdout",
       "output_type": "stream",
       "stream": "stdout",
       "text": [
        "Is the trajectory correct ? [Y]/N N\n"
       ]
      },
      {
       "name": "stdout",
       "output_type": "stream",
       "stream": "stdout",
       "text": [
        "Is the trajectory correct ? [Y]/N \n"
       ]
      },
      {
       "name": "stdout",
       "output_type": "stream",
       "stream": "stdout",
       "text": [
        "Is the trajectory correct ? [Y]/N \n"
       ]
      },
      {
       "name": "stdout",
       "output_type": "stream",
       "stream": "stdout",
       "text": [
        "Is the trajectory correct ? [Y]/N \n"
       ]
      }
     ],
     "prompt_number": 8
    },
    {
     "cell_type": "code",
     "collapsed": false,
     "input": [
      "with open('../../matlab_tools/robot_joints.json', 'w') as f:\n",
      "    json.dump(points, f, indent=4)"
     ],
     "language": "python",
     "metadata": {},
     "outputs": [],
     "prompt_number": 9
    },
    {
     "cell_type": "markdown",
     "metadata": {},
     "source": [
      "##Matlab part: Get VREP coordinates with the given joint angles"
     ]
    },
    {
     "cell_type": "code",
     "collapsed": false,
     "input": [
      "with open('../../matlab_tools/vrep_transform.json') as f:\n",
      "    data = json.load(f)\n",
      "# convert the format to get transform matrices\n",
      "array = np.array(data['T']['_ArrayData_'])\n",
      "mat_vrep = []\n",
      "for i in range(data['T']['_ArraySize_'][-1]):\n",
      "    mat = array[i*16:(i+1)*16].reshape(4,4)\n",
      "    mat_vrep.append(mat.T)"
     ],
     "language": "python",
     "metadata": {},
     "outputs": [],
     "prompt_number": 10
    },
    {
     "cell_type": "markdown",
     "metadata": {},
     "source": [
      "## Optimization to find the calibration matrices"
     ]
    },
    {
     "cell_type": "code",
     "collapsed": false,
     "input": [
      "a_init = np.eye(4)[:3].reshape(12,)\n",
      "b_init = np.eye(4)[:3].reshape(12,)\n",
      "initial_guess = np.append(a_init, b_init)"
     ],
     "language": "python",
     "metadata": {},
     "outputs": [],
     "prompt_number": 11
    },
    {
     "cell_type": "code",
     "collapsed": false,
     "input": [
      "t0 = time.time()\n",
      "result = minimize(fitfunc, initial_guess, args=(mat_robot, mat_vrep, ))\n",
      "print time.time()-t0, \"seconds of optimization\""
     ],
     "language": "python",
     "metadata": {},
     "outputs": [
      {
       "output_type": "stream",
       "stream": "stdout",
       "text": [
        "2.21147203445 seconds of optimization\n"
       ]
      }
     ],
     "prompt_number": 16
    },
    {
     "cell_type": "markdown",
     "metadata": {},
     "source": [
      "## Dumping A i.e. the calibration matrix (the transformation between VREP frame and the robot base frame)"
     ]
    },
    {
     "cell_type": "code",
     "collapsed": false,
     "input": [
      "result_a = appender(result.x[:12].reshape(3,4))"
     ],
     "language": "python",
     "metadata": {},
     "outputs": [],
     "prompt_number": 18
    },
    {
     "cell_type": "code",
     "collapsed": false,
     "input": [
      "calibration_matrix_a = result_to_calibration_matrix(result_a)"
     ],
     "language": "python",
     "metadata": {},
     "outputs": [],
     "prompt_number": 24
    },
    {
     "cell_type": "code",
     "collapsed": false,
     "input": [
      "rospy.set_param(\"/vrep/calibration_matrix\", calibration_matrix_a)"
     ],
     "language": "python",
     "metadata": {},
     "outputs": [],
     "prompt_number": 23
    },
    {
     "cell_type": "code",
     "collapsed": false,
     "input": [
      "with open(rospack.get_path(\"reba_optim\")+\"/config/calibration_matrix_vrep.yaml\", 'w') as f:\n",
      "    yaml.dump(calibration_matrix_a, f)"
     ],
     "language": "python",
     "metadata": {},
     "outputs": [],
     "prompt_number": 37
    },
    {
     "cell_type": "markdown",
     "metadata": {},
     "source": [
      "## Dumping B (the transformation between the optitack marker and the end effector frame)"
     ]
    },
    {
     "cell_type": "code",
     "collapsed": false,
     "input": [
      "result_b = appender(result.x[12:].reshape(3,4))"
     ],
     "language": "python",
     "metadata": {},
     "outputs": [],
     "prompt_number": 33
    },
    {
     "cell_type": "code",
     "collapsed": false,
     "input": [
      "calibration_matrix_b = result_to_calibration_matrix(result_b)"
     ],
     "language": "python",
     "metadata": {},
     "outputs": [],
     "prompt_number": 34
    },
    {
     "cell_type": "code",
     "collapsed": false,
     "input": [
      "with open(rospack.get_path(\"reba_optim\")+\"/config/calibration_matrix_tip.yaml\", 'w') as f:\n",
      "    yaml.dump(calibration_matrix_b, f)"
     ],
     "language": "python",
     "metadata": {},
     "outputs": [],
     "prompt_number": 35
    },
    {
     "cell_type": "markdown",
     "metadata": {},
     "source": [
      "## Testing calibration quality"
     ]
    },
    {
     "cell_type": "code",
     "collapsed": false,
     "input": [
      "with open(rospack.get_path(\"reba_optim\")+\"/config/calibration_matrix_tip.yaml\") as f:\n",
      "    calibration_matrix_tip = yaml.load(f)"
     ],
     "language": "python",
     "metadata": {},
     "outputs": [],
     "prompt_number": 4
    },
    {
     "cell_type": "code",
     "collapsed": false,
     "input": [
      "calibration_matrix_tip"
     ],
     "language": "python",
     "metadata": {},
     "outputs": [
      {
       "metadata": {},
       "output_type": "pyout",
       "prompt_number": 5,
       "text": [
        "[[2.4566048961612835e-05, 4.6216949492736585e-07, -0.05986579235527341],\n",
        " [-1.9280322101558585e-07,\n",
        "  -1.212167258258248e-06,\n",
        "  -0.7071070513113319,\n",
        "  0.7071065076104273]]"
       ]
      }
     ],
     "prompt_number": 5
    },
    {
     "cell_type": "code",
     "collapsed": false,
     "input": [
      "A = transformations.inverse_transform(calibration_matrix_tip)"
     ],
     "language": "python",
     "metadata": {},
     "outputs": [],
     "prompt_number": 6
    },
    {
     "cell_type": "code",
     "collapsed": false,
     "input": [
      "calibration_matrix_tip = [map(float, A[0]), map(float, A[1].tolist())]"
     ],
     "language": "python",
     "metadata": {},
     "outputs": [],
     "prompt_number": 8
    },
    {
     "cell_type": "code",
     "collapsed": false,
     "input": [
      "with open(rospack.get_path(\"reba_optim\")+\"/config/calibration_matrix_tip.yaml\", 'w') as f:\n",
      "    yaml.dump(calibration_matrix_tip, f)"
     ],
     "language": "python",
     "metadata": {},
     "outputs": [],
     "prompt_number": 10
    },
    {
     "cell_type": "code",
     "collapsed": false,
     "input": [],
     "language": "python",
     "metadata": {},
     "outputs": []
    }
   ],
   "metadata": {}
  }
 ]
}