{
 "cells": [
  {
   "cell_type": "code",
   "execution_count": 1,
   "metadata": {
    "collapsed": false
   },
   "outputs": [
    {
     "name": "stderr",
     "output_type": "stream",
     "text": [
      "Using Theano backend.\n"
     ]
    }
   ],
   "source": [
    "import numpy as np\n",
    "import statsmodels.api as sm\n",
    "from reba_optim.reba_assess import RebaAssess\n",
    "from human_moveit_config.human_model import HumanModel\n",
    "import csv\n",
    "from scipy.optimize import minimize\n",
    "from baxter_commander.persistence import dicttostate\n",
    "import rospy\n",
    "from numpy.random import uniform"
   ]
  },
  {
   "cell_type": "code",
   "execution_count": 2,
   "metadata": {
    "collapsed": false
   },
   "outputs": [],
   "source": [
    "def generate_random_pose(database, A_table, B_table, C_table):\n",
    "    side = ['right', 'left']\n",
    "    X = []\n",
    "    # random pose for A group\n",
    "    i_n0 = np.random.randint(3)\n",
    "    i_n1 = np.random.randint(3)\n",
    "    i_n2 = np.random.randint(3)\n",
    "    X.append(uniform(database['neck_0']['joints'][i_n0], database['neck_0']['joints'][i_n0 + 1]))\n",
    "    X.append(uniform(database['neck_1']['joints'][i_n1], database['neck_1']['joints'][i_n1 + 1]))\n",
    "    X.append(uniform(database['neck_2']['joints'][i_n2], database['neck_2']['joints'][i_n2 + 1]))\n",
    "    n_val = database['neck_1']['values'][i_n1]\n",
    "    if database['neck_0']['values'][i_n0] == 1 or database['neck_2']['values'][i_n2] == 1:\n",
    "        n_val += 1\n",
    "\n",
    "    i_s0 = np.random.randint(3)\n",
    "    i_s1 = np.random.randint(5)\n",
    "    i_s2 = np.random.randint(3)\n",
    "    X.append(uniform(database['spine_0']['joints'][i_s0], database['spine_0']['joints'][i_s0 + 1]))\n",
    "    X.append(uniform(database['spine_1']['joints'][i_s1], database['spine_1']['joints'][i_s1 + 1]))\n",
    "    X.append(uniform(database['spine_2']['joints'][i_s2], database['spine_2']['joints'][i_s2 + 1]))\n",
    "    s_val = database['spine_1']['values'][i_s1]\n",
    "    if database['spine_0']['values'][i_s0] == 1 or database['spine_2']['values'][i_s2] == 1:\n",
    "        s_val += 1\n",
    "    \n",
    "    k_vals = []\n",
    "    for i in range(2):\n",
    "        i_l0 = np.random.randint(2)\n",
    "        X.append(uniform(database['knee']['joints'][i_l0], database['knee']['joints'][i_l0 + 1]))\n",
    "        k_vals.append(database['knee']['values'][i_l0])\n",
    "    k_val = max(k_vals)\n",
    "    # get value from table\n",
    "    A_val = A_table[n_val - 1, s_val - 1, k_val - 1]\n",
    "    \n",
    "    # random pose for B group\n",
    "    sh_vals = []\n",
    "    for i in range(2):\n",
    "        i_sh0 = np.random.randint(2)\n",
    "        i_sh1 = np.random.randint(5)\n",
    "        X.append(uniform(database[side[i] + '_shoulder_0']['joints'][i_sh0],\n",
    "                         database[side[i] + '_shoulder_0']['joints'][i_sh0 + 1]))\n",
    "        X.append(uniform(database[side[i] + '_shoulder_1']['joints'][i_sh1],\n",
    "                         database[side[i] + '_shoulder_1']['joints'][i_sh1 + 1]))\n",
    "        sh_vals.append(database[side[i] + '_shoulder_1']['values'][i_sh1])\n",
    "        if database[side[i] + '_shoulder_0']['values'][i_sh0] == 1:\n",
    "            sh_vals[-1] += 1\n",
    "    sh_val = max(sh_vals)\n",
    "\n",
    "    e_vals = []\n",
    "    for i in range(2):\n",
    "        i_e0 = np.random.randint(3)\n",
    "        X.append(uniform(database[side[i] + '_elbow_0']['joints'][i_e0],\n",
    "                         database[side[i] + '_elbow_0']['joints'][i_e0 + 1]))\n",
    "        e_vals.append(database[side[i] + '_elbow_0']['values'][i_e0])\n",
    "    e_val = max(e_vals)\n",
    "\n",
    "    w_vals = []\n",
    "    for i in range(2):\n",
    "        i_w0 = np.random.randint(3)\n",
    "        i_w1 = np.random.randint(3)\n",
    "        X.append(uniform(database['wrist_0']['joints'][i_w0], database['wrist_0']['joints'][i_w0 + 1]))\n",
    "        X.append(uniform(database['wrist_1']['joints'][i_w1], database['wrist_1']['joints'][i_w1 + 1]))\n",
    "        w_vals.append(database['wrist_1']['values'][i_w1])\n",
    "        if database['wrist_0']['values'][i_w0] == 1:\n",
    "            w_vals[-1] += 1\n",
    "    w_val = max(w_vals)\n",
    "    \n",
    "    # get value from table\n",
    "    B_val = B_table[e_val - 1, sh_val - 1, w_val - 1]\n",
    "    \n",
    "    # get total value from C table\n",
    "    C_val = C_table[int(A_val - 1), int(B_val - 1)]\n",
    "\n",
    "    return X, C_val"
   ]
  },
  {
   "cell_type": "code",
   "execution_count": 3,
   "metadata": {
    "collapsed": false
   },
   "outputs": [],
   "source": [
    "reba = RebaAssess()\n",
    "rospy.init_node('find_coefficients')"
   ]
  },
  {
   "cell_type": "code",
   "execution_count": 4,
   "metadata": {
    "collapsed": true
   },
   "outputs": [],
   "source": [
    "joint_names = ['neck_0', 'neck_1', 'neck_2', 'spine_0', 'spine_1', 'spine_2',\n",
    "               'right_knee', 'left_knee', 'right_shoulder_0', 'right_shoulder_1',\n",
    "               'left_shoulder_0', 'left_shoulder_1', 'right_elbow_0', 'left_elbow_0',\n",
    "               'right_wrist_0', 'right_wrist_1', 'left_wrist_0', 'left_wrist_1']"
   ]
  },
  {
   "cell_type": "code",
   "execution_count": 5,
   "metadata": {
    "collapsed": false
   },
   "outputs": [],
   "source": [
    "rad_factor = np.pi / 180.\n",
    "rad_convert = lambda x : x * rad_factor"
   ]
  },
  {
   "cell_type": "code",
   "execution_count": 6,
   "metadata": {
    "collapsed": false
   },
   "outputs": [],
   "source": [
    "database = {}\n",
    "# neck\n",
    "database['neck_0'] = {}\n",
    "database['neck_0']['joints'] = map(rad_convert, [-45, -15, 15, 45])\n",
    "database['neck_0']['values'] = [1, 0, 1]\n",
    "database['neck_1'] = {}\n",
    "database['neck_1']['joints'] = map(rad_convert, [-45, 10, 20, 45])\n",
    "database['neck_1']['values'] = [2, 1, 2]\n",
    "database['neck_2'] = {}\n",
    "database['neck_2']['joints'] = map(rad_convert, [-45, -15, 15, 45])\n",
    "database['neck_2']['values'] = [1, 0, 1]\n",
    "# trunk\n",
    "database['spine_0'] = {}\n",
    "database['spine_0']['joints'] = map(rad_convert, [-45, -15, 15, 45])\n",
    "database['spine_0']['values'] = [1, 0, 1]\n",
    "database['spine_1'] = {}\n",
    "database['spine_1']['joints'] = map(rad_convert, [-20, -10, 10, 20, 60, 90])\n",
    "database['spine_1']['values'] = [2, 1, 2, 3, 4]\n",
    "database['spine_2'] = {}\n",
    "database['spine_2']['joints'] = map(rad_convert, [-45, -15, 15, 45])\n",
    "database['spine_2']['values'] = [1, 0, 1]\n",
    "# knee \n",
    "database['knee'] = {}\n",
    "database['knee']['joints'] = map(rad_convert, [-80, -60, 0])\n",
    "database['knee']['values'] = [2, 1]\n",
    "# shoulder right\n",
    "database['right_shoulder_0'] = {}\n",
    "database['right_shoulder_0']['joints'] = map(rad_convert, [0, 75, 90])\n",
    "database['right_shoulder_0']['values'] = [1, 0]\n",
    "database['right_shoulder_1'] = {}\n",
    "database['right_shoulder_1']['joints'] = map(rad_convert, [-45, -20, 20, 45, 90, 135])\n",
    "database['right_shoulder_1']['values'] = [2, 1, 2, 3, 4]\n",
    "# shoulder left\n",
    "database['left_shoulder_0'] = {}\n",
    "database['left_shoulder_0']['joints'] = map(rad_convert, [0, 75, 90])\n",
    "database['left_shoulder_0']['values'] = [1, 0]\n",
    "database['left_shoulder_1'] = {}\n",
    "database['left_shoulder_1']['joints'] = map(rad_convert, [45, 20, -20, -45, -90, -135])\n",
    "database['left_shoulder_1']['values'] = [2, 1, 2, 3, 4]\n",
    "# elbow right\n",
    "database['right_elbow_0'] = {}\n",
    "database['right_elbow_0']['joints'] = map(rad_convert, [0, 60, 100, 145])\n",
    "database['right_elbow_0']['values'] = [2, 1, 2]\n",
    "# elbow left\n",
    "database['left_elbow_0'] = {}\n",
    "database['left_elbow_0']['joints'] = map(rad_convert, [0, -60, -100, -145])\n",
    "database['left_elbow_0']['values'] = [2, 1, 2]\n",
    "# wrist\n",
    "database['wrist_0'] = {}\n",
    "database['wrist_0']['joints'] = map(rad_convert, [-45, -10, 10, 45])\n",
    "database['wrist_0']['values'] = [1, 0, 1]\n",
    "database['wrist_1'] = {}\n",
    "database['wrist_1']['joints'] = map(rad_convert, [-30, -15, 15, 30])\n",
    "database['wrist_1']['values'] = [2, 1, 2]"
   ]
  },
  {
   "cell_type": "code",
   "execution_count": 7,
   "metadata": {
    "collapsed": false
   },
   "outputs": [],
   "source": [
    "X = []\n",
    "Y = []\n",
    "nb_elem = 2000\n",
    "last_class = 10\n",
    "nb_by_class = np.zeros(last_class)\n",
    "nb_total = np.ones(last_class) * nb_elem\n",
    "while not np.array_equal(nb_by_class, nb_total):\n",
    "    joints, val = generate_random_pose(database, reba.reba_A_table, reba.reba_B_table, reba.reba_C_table)\n",
    "    int_val = int(val)\n",
    "    if nb_by_class[int_val - 1] < nb_elem:\n",
    "        X.append(joints)\n",
    "        Y.append(val)\n",
    "        nb_by_class[int_val - 1] += 1"
   ]
  },
  {
   "cell_type": "code",
   "execution_count": 8,
   "metadata": {
    "collapsed": false
   },
   "outputs": [],
   "source": [
    "f = open('/tmp/validation.csv', 'wt')\n",
    "try:\n",
    "    writer = csv.writer(f)\n",
    "    writer.writerow(['Y'] + joint_names)\n",
    "    for i in range(len(X)):\n",
    "        writer.writerow([Y[i]] + X[i])\n",
    "finally:\n",
    "    f.close()"
   ]
  },
  {
   "cell_type": "code",
   "execution_count": 7,
   "metadata": {
    "collapsed": false
   },
   "outputs": [],
   "source": [
    "nb_elem = 10\n",
    "last_class = 10\n",
    "state_by_class = []\n",
    "for i in range(last_class):\n",
    "    state_by_class.append([])\n",
    "nb_by_class = np.zeros(last_class)\n",
    "nb_total = np.ones(last_class) * nb_elem\n",
    "while not np.array_equal(nb_by_class, nb_total):\n",
    "    joints, val = generate_random_pose(database, reba.reba_A_table, reba.reba_B_table, reba.reba_C_table)\n",
    "    val = int(val)\n",
    "    if nb_by_class[val - 1] < nb_elem:\n",
    "        state = {}\n",
    "        state['name'] = joint_names\n",
    "        state['position'] = joints\n",
    "        state_by_class[val - 1].append(dicttostate(state))\n",
    "        nb_by_class[val - 1] += 1"
   ]
  },
  {
   "cell_type": "code",
   "execution_count": 13,
   "metadata": {
    "collapsed": false
   },
   "outputs": [
    {
     "ename": "RuntimeError",
     "evalue": "Unable to connect to move_group action server 'move_group' within allotted time (2)",
     "output_type": "error",
     "traceback": [
      "\u001b[1;31m---------------------------------------------------------------------------\u001b[0m",
      "\u001b[1;31mRuntimeError\u001b[0m                              Traceback (most recent call last)",
      "\u001b[1;32m<ipython-input-13-30dbb9e543ff>\u001b[0m in \u001b[0;36m<module>\u001b[1;34m()\u001b[0m\n\u001b[1;32m----> 1\u001b[1;33m \u001b[0mhuman\u001b[0m \u001b[1;33m=\u001b[0m \u001b[0mHumanModel\u001b[0m\u001b[1;33m(\u001b[0m\u001b[1;33m)\u001b[0m\u001b[1;33m\u001b[0m\u001b[0m\n\u001b[0m",
      "\u001b[1;32m/home/buschbapti/catkin_ws/src/human_moveit_config/src/human_moveit_config/human_model.pyc\u001b[0m in \u001b[0;36m__init__\u001b[1;34m(self, description)\u001b[0m\n\u001b[0;32m     20\u001b[0m         \u001b[0mself\u001b[0m\u001b[1;33m.\u001b[0m\u001b[0mjoint_publisher\u001b[0m \u001b[1;33m=\u001b[0m \u001b[0mrospy\u001b[0m\u001b[1;33m.\u001b[0m\u001b[0mPublisher\u001b[0m\u001b[1;33m(\u001b[0m\u001b[1;34m'/human/set_joint_values'\u001b[0m\u001b[1;33m,\u001b[0m \u001b[0mJointState\u001b[0m\u001b[1;33m,\u001b[0m \u001b[0mqueue_size\u001b[0m\u001b[1;33m=\u001b[0m\u001b[1;36m1\u001b[0m\u001b[1;33m)\u001b[0m\u001b[1;33m\u001b[0m\u001b[0m\n\u001b[0;32m     21\u001b[0m         \u001b[0mself\u001b[0m\u001b[1;33m.\u001b[0m\u001b[0mgroups\u001b[0m \u001b[1;33m=\u001b[0m \u001b[1;33m{\u001b[0m\u001b[1;33m}\u001b[0m\u001b[1;33m\u001b[0m\u001b[0m\n\u001b[1;32m---> 22\u001b[1;33m         \u001b[0mself\u001b[0m\u001b[1;33m.\u001b[0m\u001b[0mgroups\u001b[0m\u001b[1;33m[\u001b[0m\u001b[1;34m'head'\u001b[0m\u001b[1;33m]\u001b[0m \u001b[1;33m=\u001b[0m \u001b[0mmoveit_commander\u001b[0m\u001b[1;33m.\u001b[0m\u001b[0mMoveGroupCommander\u001b[0m\u001b[1;33m(\u001b[0m\u001b[1;34m'Head'\u001b[0m\u001b[1;33m,\u001b[0m \u001b[0mdescription\u001b[0m\u001b[1;33m)\u001b[0m\u001b[1;33m\u001b[0m\u001b[0m\n\u001b[0m\u001b[0;32m     23\u001b[0m         \u001b[0mself\u001b[0m\u001b[1;33m.\u001b[0m\u001b[0mgroups\u001b[0m\u001b[1;33m[\u001b[0m\u001b[1;34m'right_arm'\u001b[0m\u001b[1;33m]\u001b[0m \u001b[1;33m=\u001b[0m \u001b[0mmoveit_commander\u001b[0m\u001b[1;33m.\u001b[0m\u001b[0mMoveGroupCommander\u001b[0m\u001b[1;33m(\u001b[0m\u001b[1;34m'RightArm'\u001b[0m\u001b[1;33m,\u001b[0m \u001b[0mdescription\u001b[0m\u001b[1;33m)\u001b[0m\u001b[1;33m\u001b[0m\u001b[0m\n\u001b[0;32m     24\u001b[0m         \u001b[0mself\u001b[0m\u001b[1;33m.\u001b[0m\u001b[0mgroups\u001b[0m\u001b[1;33m[\u001b[0m\u001b[1;34m'left_arm'\u001b[0m\u001b[1;33m]\u001b[0m \u001b[1;33m=\u001b[0m \u001b[0mmoveit_commander\u001b[0m\u001b[1;33m.\u001b[0m\u001b[0mMoveGroupCommander\u001b[0m\u001b[1;33m(\u001b[0m\u001b[1;34m'LeftArm'\u001b[0m\u001b[1;33m,\u001b[0m \u001b[0mdescription\u001b[0m\u001b[1;33m)\u001b[0m\u001b[1;33m\u001b[0m\u001b[0m\n",
      "\u001b[1;32m/home/buschbapti/catkin_ws/src/moveit_commander/src/moveit_commander/move_group.pyc\u001b[0m in \u001b[0;36m__init__\u001b[1;34m(self, name, robot_description)\u001b[0m\n\u001b[0;32m     49\u001b[0m     \u001b[1;32mdef\u001b[0m \u001b[0m__init__\u001b[0m\u001b[1;33m(\u001b[0m\u001b[0mself\u001b[0m\u001b[1;33m,\u001b[0m \u001b[0mname\u001b[0m\u001b[1;33m,\u001b[0m \u001b[0mrobot_description\u001b[0m\u001b[1;33m=\u001b[0m\u001b[1;34m\"robot_description\"\u001b[0m\u001b[1;33m)\u001b[0m\u001b[1;33m:\u001b[0m\u001b[1;33m\u001b[0m\u001b[0m\n\u001b[0;32m     50\u001b[0m         \u001b[1;34m\"\"\" Specify the group name for which to construct this commander instance. Throws an exception if there is an initialization error. \"\"\"\u001b[0m\u001b[1;33m\u001b[0m\u001b[0m\n\u001b[1;32m---> 51\u001b[1;33m         \u001b[0mself\u001b[0m\u001b[1;33m.\u001b[0m\u001b[0m_g\u001b[0m \u001b[1;33m=\u001b[0m \u001b[0m_moveit_move_group_interface\u001b[0m\u001b[1;33m.\u001b[0m\u001b[0mMoveGroup\u001b[0m\u001b[1;33m(\u001b[0m\u001b[0mname\u001b[0m\u001b[1;33m,\u001b[0m \u001b[0mrobot_description\u001b[0m\u001b[1;33m)\u001b[0m\u001b[1;33m\u001b[0m\u001b[0m\n\u001b[0m\u001b[0;32m     52\u001b[0m \u001b[1;33m\u001b[0m\u001b[0m\n\u001b[0;32m     53\u001b[0m     \u001b[1;32mdef\u001b[0m \u001b[0mget_name\u001b[0m\u001b[1;33m(\u001b[0m\u001b[0mself\u001b[0m\u001b[1;33m)\u001b[0m\u001b[1;33m:\u001b[0m\u001b[1;33m\u001b[0m\u001b[0m\n",
      "\u001b[1;31mRuntimeError\u001b[0m: Unable to connect to move_group action server 'move_group' within allotted time (2)"
     ]
    }
   ],
   "source": [
    "human = HumanModel()"
   ]
  },
  {
   "cell_type": "code",
   "execution_count": 9,
   "metadata": {
    "collapsed": false
   },
   "outputs": [
    {
     "name": "stdout",
     "output_type": "stream",
     "text": [
      "neck_0 -0.444943895451\n",
      "neck_1 0.270631005669\n",
      "neck_2 0.716976094005\n",
      "spine_0 0.183078749147\n",
      "spine_1 -0.0663675316056\n",
      "spine_2 -0.175842413542\n",
      "right_knee -0.651426804111\n",
      "left_knee -0.12065013945\n",
      "right_shoulder_0 1.1659733404\n",
      "right_shoulder_1 0.297092019304\n",
      "left_shoulder_0 1.51484820207\n",
      "left_shoulder_1 -0.203946906739\n",
      "right_elbow_0 1.10917632685\n",
      "left_elbow_0 -1.67085481026\n",
      "right_wrist_0 -0.497638963411\n",
      "right_wrist_1 0.0505342628106\n",
      "left_wrist_0 -0.448512282092\n",
      "left_wrist_1 0.369973392805\n",
      "------------------------------------------------\n"
     ]
    },
    {
     "ename": "KeyboardInterrupt",
     "evalue": "",
     "output_type": "error",
     "traceback": [
      "\u001b[1;31m---------------------------------------------------------------------------\u001b[0m",
      "\u001b[1;31mKeyboardInterrupt\u001b[0m                         Traceback (most recent call last)",
      "\u001b[1;32m<ipython-input-9-7695dd58dc37>\u001b[0m in \u001b[0;36m<module>\u001b[1;34m()\u001b[0m\n\u001b[0;32m      6\u001b[0m         \u001b[1;32mprint\u001b[0m \u001b[0ms\u001b[0m\u001b[1;33m.\u001b[0m\u001b[0mjoint_state\u001b[0m\u001b[1;33m.\u001b[0m\u001b[0mname\u001b[0m\u001b[1;33m[\u001b[0m\u001b[0mi\u001b[0m\u001b[1;33m]\u001b[0m\u001b[1;33m,\u001b[0m \u001b[0ms\u001b[0m\u001b[1;33m.\u001b[0m\u001b[0mjoint_state\u001b[0m\u001b[1;33m.\u001b[0m\u001b[0mposition\u001b[0m\u001b[1;33m[\u001b[0m\u001b[0mi\u001b[0m\u001b[1;33m]\u001b[0m\u001b[1;33m\u001b[0m\u001b[0m\n\u001b[0;32m      7\u001b[0m     \u001b[1;32mprint\u001b[0m \u001b[1;34m'------------------------------------------------'\u001b[0m\u001b[1;33m\u001b[0m\u001b[0m\n\u001b[1;32m----> 8\u001b[1;33m     \u001b[0mraw_input\u001b[0m\u001b[1;33m(\u001b[0m\u001b[1;33m)\u001b[0m\u001b[1;33m\u001b[0m\u001b[0m\n\u001b[0m",
      "\u001b[1;32m/usr/local/lib/python2.7/dist-packages/ipykernel/kernelbase.pyc\u001b[0m in \u001b[0;36mraw_input\u001b[1;34m(self, prompt)\u001b[0m\n\u001b[0;32m    675\u001b[0m             \u001b[0mself\u001b[0m\u001b[1;33m.\u001b[0m\u001b[0m_parent_ident\u001b[0m\u001b[1;33m,\u001b[0m\u001b[1;33m\u001b[0m\u001b[0m\n\u001b[0;32m    676\u001b[0m             \u001b[0mself\u001b[0m\u001b[1;33m.\u001b[0m\u001b[0m_parent_header\u001b[0m\u001b[1;33m,\u001b[0m\u001b[1;33m\u001b[0m\u001b[0m\n\u001b[1;32m--> 677\u001b[1;33m             \u001b[0mpassword\u001b[0m\u001b[1;33m=\u001b[0m\u001b[0mFalse\u001b[0m\u001b[1;33m,\u001b[0m\u001b[1;33m\u001b[0m\u001b[0m\n\u001b[0m\u001b[0;32m    678\u001b[0m         )\n\u001b[0;32m    679\u001b[0m \u001b[1;33m\u001b[0m\u001b[0m\n",
      "\u001b[1;32m/usr/local/lib/python2.7/dist-packages/ipykernel/kernelbase.pyc\u001b[0m in \u001b[0;36m_input_request\u001b[1;34m(self, prompt, ident, parent, password)\u001b[0m\n\u001b[0;32m    705\u001b[0m             \u001b[1;32mexcept\u001b[0m \u001b[0mKeyboardInterrupt\u001b[0m\u001b[1;33m:\u001b[0m\u001b[1;33m\u001b[0m\u001b[0m\n\u001b[0;32m    706\u001b[0m                 \u001b[1;31m# re-raise KeyboardInterrupt, to truncate traceback\u001b[0m\u001b[1;33m\u001b[0m\u001b[1;33m\u001b[0m\u001b[0m\n\u001b[1;32m--> 707\u001b[1;33m                 \u001b[1;32mraise\u001b[0m \u001b[0mKeyboardInterrupt\u001b[0m\u001b[1;33m\u001b[0m\u001b[0m\n\u001b[0m\u001b[0;32m    708\u001b[0m             \u001b[1;32melse\u001b[0m\u001b[1;33m:\u001b[0m\u001b[1;33m\u001b[0m\u001b[0m\n\u001b[0;32m    709\u001b[0m                 \u001b[1;32mbreak\u001b[0m\u001b[1;33m\u001b[0m\u001b[0m\n",
      "\u001b[1;31mKeyboardInterrupt\u001b[0m: "
     ]
    }
   ],
   "source": [
    "class_value = 1\n",
    "states = state_by_class[class_value - 1]\n",
    "for s in states:\n",
    "    human.send_state(s)\n",
    "    for i in range(len(s.joint_state.name)):\n",
    "        print s.joint_state.name[i], s.joint_state.position[i]\n",
    "    print '------------------------------------------------'\n",
    "    raw_input()"
   ]
  },
  {
   "cell_type": "code",
   "execution_count": null,
   "metadata": {
    "collapsed": true
   },
   "outputs": [],
   "source": []
  }
 ],
 "metadata": {
  "kernelspec": {
   "display_name": "Python 2",
   "language": "python",
   "name": "python2"
  },
  "language_info": {
   "codemirror_mode": {
    "name": "ipython",
    "version": 2
   },
   "file_extension": ".py",
   "mimetype": "text/x-python",
   "name": "python",
   "nbconvert_exporter": "python",
   "pygments_lexer": "ipython2",
   "version": "2.7.6"
  }
 },
 "nbformat": 4,
 "nbformat_minor": 0
}
