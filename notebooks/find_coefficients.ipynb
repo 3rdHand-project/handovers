{
 "cells": [
  {
   "cell_type": "code",
   "execution_count": 58,
   "metadata": {
    "collapsed": false
   },
   "outputs": [],
   "source": [
    "import numpy as np\n",
    "import statsmodels.api as sm\n",
    "from reba_optim.reba_assess import RebaAssess\n",
    "from human_moveit_config.human_model import HumanModel\n",
    "import csv\n",
    "from scipy.optimize import minimize"
   ]
  },
  {
   "cell_type": "code",
   "execution_count": 22,
   "metadata": {
    "collapsed": false
   },
   "outputs": [],
   "source": [
    "def generate_random_pose(database, A_table, B_table, C_table):\n",
    "    side = ['right', 'left']\n",
    "    X = []\n",
    "    # random pose for A group\n",
    "    i_n0 = np.random.randint(4)\n",
    "    i_n1 = np.random.randint(5)\n",
    "    i_n2 = np.random.randint(4)\n",
    "    X.append(database['neck_0']['joints'][i_n0])\n",
    "    X.append(database['neck_1']['joints'][i_n1])\n",
    "    X.append(database['neck_2']['joints'][i_n2])\n",
    "    n_val = database['neck_1']['values'][i_n1]\n",
    "    if database['neck_0']['values'][i_n0] == 1 or database['neck_2']['values'][i_n2] == 1:\n",
    "        n_val += 1\n",
    "\n",
    "    i_s0 = np.random.randint(4)\n",
    "    i_s1 = np.random.randint(5)\n",
    "    i_s2 = np.random.randint(4)\n",
    "    X.append(database['spine_0']['joints'][i_s0])\n",
    "    X.append(database['spine_1']['joints'][i_s1])\n",
    "    X.append(database['spine_2']['joints'][i_s2])\n",
    "    s_val = database['spine_1']['values'][i_s1]\n",
    "    if database['spine_0']['values'][i_s0] == 1 or database['spine_2']['values'][i_s2] == 1:\n",
    "        s_val += 1\n",
    "    \n",
    "    k_vals = []\n",
    "    for i in range(2):\n",
    "        i_l0 = np.random.randint(3)\n",
    "        X.append(database['knee']['joints'][i_l0])\n",
    "        k_vals.append(database['knee']['values'][i_l0])\n",
    "    k_val = max(k_vals)\n",
    "    # get value from table\n",
    "    A_val = A_table[n_val - 1, s_val - 1, k_val - 1]\n",
    "    \n",
    "    # random pose for B group\n",
    "    sh_vals = []\n",
    "    for i in range(2):\n",
    "        i_sh0 = np.random.randint(4)\n",
    "        i_sh1 = np.random.randint(6)\n",
    "        X.append(database[side[i] + '_shoulder_0']['joints'][i_sh0])\n",
    "        X.append(database[side[i] + '_shoulder_1']['joints'][i_sh1])\n",
    "        sh_vals.append(database[side[i] + '_shoulder_1']['values'][i_sh1])\n",
    "        if database[side[i] + '_shoulder_0']['values'][i_sh0] == 1:\n",
    "            sh_vals[-1] += 1\n",
    "    sh_val = max(sh_vals)\n",
    "\n",
    "    e_vals = []\n",
    "    for i in range(2):\n",
    "        i_e0 = np.random.randint(4)\n",
    "        X.append(database[side[i] + '_elbow_0']['joints'][i_e0])\n",
    "        e_vals.append(database[side[i] + '_elbow_0']['values'][i_e0])\n",
    "    e_val = max(e_vals)\n",
    "\n",
    "    w_vals = []\n",
    "    for i in range(2):\n",
    "        i_w0 = np.random.randint(3)\n",
    "        i_w1 = np.random.randint(4)\n",
    "        X.append(database['wrist_0']['joints'][i_w0])\n",
    "        X.append(database['wrist_1']['joints'][i_w1])\n",
    "        w_vals.append(database['wrist_1']['values'][i_w1])\n",
    "        if database['wrist_0']['values'][i_w0] == 1:\n",
    "            w_vals[-1] += 1\n",
    "    w_val = max(w_vals)\n",
    "    \n",
    "    # get value from table\n",
    "    B_val = B_table[e_val - 1, sh_val - 1, w_val - 1]\n",
    "    \n",
    "    # get total value from C table\n",
    "    C_val = C_table[int(A_val - 1), int(B_val - 1)]\n",
    "\n",
    "    return X, C_val"
   ]
  },
  {
   "cell_type": "code",
   "execution_count": 66,
   "metadata": {
    "collapsed": true
   },
   "outputs": [],
   "source": [
    "def evaluate(weights, X, Y):\n",
    "    cost = 0\n",
    "    for i in range(len(X)):\n",
    "        estimate = 0\n",
    "        for j in range(len(X[i])):\n",
    "            poly = 0\n",
    "            for k in range(4):\n",
    "                poly += weights[j * 5 + k] * X[i][j]**k\n",
    "            estimate += weights[j * 5 + 4] * poly\n",
    "        # check difference with ground truth\n",
    "        cost += (estimate - Y[i])**2\n",
    "    return cost"
   ]
  },
  {
   "cell_type": "code",
   "execution_count": 3,
   "metadata": {
    "collapsed": true
   },
   "outputs": [],
   "source": [
    "def quality_check(q, weights):\n",
    "    return model.predict(q)"
   ]
  },
  {
   "cell_type": "code",
   "execution_count": 4,
   "metadata": {
    "collapsed": true
   },
   "outputs": [],
   "source": [
    "reba = RebaAssess()\n",
    "human = HumanModel()"
   ]
  },
  {
   "cell_type": "code",
   "execution_count": 23,
   "metadata": {
    "collapsed": true
   },
   "outputs": [],
   "source": [
    "joint_names = ['neck_0', 'neck_1', 'neck_2', 'spine_0', 'spine_1', 'spine_2',\n",
    "               'right_knee', 'left_knee', 'right_shoulder_0', 'right_shoulder_1',\n",
    "               'left_shoulder_0', 'left_shoulder_1', 'right_elbow_0', 'left_elbow_0',\n",
    "               'right_wrist_0', 'right_wrist_1', 'left_wrist_0', 'left_wrist_1']\n",
    "limits = human.get_joint_limits(joint_names)"
   ]
  },
  {
   "cell_type": "code",
   "execution_count": 24,
   "metadata": {
    "collapsed": false
   },
   "outputs": [],
   "source": [
    "rad_factor = np.pi / 180.\n",
    "rad_convert = lambda x : x * rad_factor"
   ]
  },
  {
   "cell_type": "code",
   "execution_count": 34,
   "metadata": {
    "collapsed": false
   },
   "outputs": [],
   "source": [
    "database = {}\n",
    "# neck\n",
    "database['neck_0'] = {}\n",
    "database['neck_0']['joints'] = map(rad_convert, [-45, -15, 15, 45])\n",
    "database['neck_0']['values'] = [1, 0, 0, 1]\n",
    "database['neck_1'] = {}\n",
    "database['neck_1']['joints'] = map(rad_convert, [-45, 0, 10, 20, 45])\n",
    "database['neck_1']['values'] = [2, 2, 1, 1, 2]\n",
    "database['neck_2'] = {}\n",
    "database['neck_2']['joints'] = map(rad_convert, [-45, -15, 15, 45])\n",
    "database['neck_2']['values'] = [1, 0, 0, 1]\n",
    "# trunk\n",
    "database['spine_0'] = {}\n",
    "database['spine_0']['joints'] = map(rad_convert, [-45, -15, 15, 45])\n",
    "database['spine_0']['values'] = [1, 0, 0, 1]\n",
    "database['spine_1'] = {}\n",
    "database['spine_1']['joints'] = map(rad_convert, [-20, 0, 20, 60, 80])\n",
    "database['spine_1']['values'] = [2, 1, 2, 3, 4]\n",
    "database['spine_2'] = {}\n",
    "database['spine_2']['joints'] = map(rad_convert, [-45, -15, 15, 45])\n",
    "database['spine_2']['values'] = [1, 0, 0, 1]\n",
    "# knee \n",
    "database['knee'] = {}\n",
    "database['knee']['joints'] = map(rad_convert, [-80, -60, -30, 0])\n",
    "database['knee']['values'] = [2, 1, 1, 2]\n",
    "# shoulder right\n",
    "database['right_shoulder_0'] = {}\n",
    "database['right_shoulder_0']['joints'] = map(rad_convert, [-90, 0, 45, 90])\n",
    "database['right_shoulder_0']['values'] = [1, 1, 0, 0]\n",
    "database['right_shoulder_1'] = {}\n",
    "database['right_shoulder_1']['joints'] = map(rad_convert, [-45, -20, 20, 45, 90, 135])\n",
    "database['right_shoulder_1']['values'] = [2, 1, 1, 2, 3, 4]\n",
    "# shoulder left\n",
    "database['left_shoulder_0'] = {}\n",
    "database['left_shoulder_0']['joints'] = map(rad_convert, [-90, 0, 45, 90])\n",
    "database['left_shoulder_0']['values'] = [1, 1, 0, 0]\n",
    "database['left_shoulder_1'] = {}\n",
    "database['left_shoulder_1']['joints'] = map(rad_convert, [45, 20, -20, -45, -90, -135])\n",
    "database['left_shoulder_1']['values'] = [2, 1, 1, 2, 3, 4]\n",
    "# elbow right\n",
    "database['right_elbow_0'] = {}\n",
    "database['right_elbow_0']['joints'] = map(rad_convert, [0, 60, 100, 145])\n",
    "database['right_elbow_0']['values'] = [2, 1, 1, 2]\n",
    "# elbow left\n",
    "database['left_elbow_0'] = {}\n",
    "database['left_elbow_0']['joints'] = map(rad_convert, [0, -60, -100, -145])\n",
    "database['left_elbow_0']['values'] = [2, 1, 1, 2]\n",
    "# wrist\n",
    "database['wrist_0'] = {}\n",
    "database['wrist_0']['joints'] = map(rad_convert, [-15, 0, 15])\n",
    "database['wrist_0']['values'] = [1, 0, 1]\n",
    "database['wrist_1'] = {}\n",
    "database['wrist_1']['joints'] = map(rad_convert, [-30, -15, 15, 30])\n",
    "database['wrist_1']['values'] = [2, 1, 1, 2]"
   ]
  },
  {
   "cell_type": "code",
   "execution_count": 75,
   "metadata": {
    "collapsed": false
   },
   "outputs": [],
   "source": [
    "X = []\n",
    "Y = []\n",
    "for i in range(100000):\n",
    "    joints, val = generate_random_pose(database, reba.reba_A_table, reba.reba_B_table, reba.reba_C_table)\n",
    "    X.append(joints)\n",
    "    Y.append(val)"
   ]
  },
  {
   "cell_type": "code",
   "execution_count": null,
   "metadata": {
    "collapsed": true
   },
   "outputs": [],
   "source": [
    "valid_X = []\n",
    "valid_Y = []\n",
    "for j in range(100):\n",
    "    joints, val = generate_random_pose(database, reba.reba_A_table, reba.reba_B_table, reba.reba_C_table)\n",
    "    valid_X.append(joints)\n",
    "    valid_Y.append(val)"
   ]
  },
  {
   "cell_type": "code",
   "execution_count": 76,
   "metadata": {
    "collapsed": false
   },
   "outputs": [],
   "source": [
    "f = open('/tmp/database.csv', 'wt')\n",
    "try:\n",
    "    writer = csv.writer(f)\n",
    "    writer.writerow(['Y'] + joint_names)\n",
    "    for i in range(len(X)):\n",
    "        writer.writerow([Y[i]] + X[i])\n",
    "finally:\n",
    "    f.close()"
   ]
  },
  {
   "cell_type": "code",
   "execution_count": 71,
   "metadata": {
    "collapsed": false
   },
   "outputs": [],
   "source": [
    "init_weights = np.ones(len(X[0]) * 5)"
   ]
  },
  {
   "cell_type": "code",
   "execution_count": 72,
   "metadata": {
    "collapsed": false
   },
   "outputs": [
    {
     "ename": "KeyboardInterrupt",
     "evalue": "",
     "output_type": "error",
     "traceback": [
      "\u001b[1;31m---------------------------------------------------------------------------\u001b[0m",
      "\u001b[1;31mKeyboardInterrupt\u001b[0m                         Traceback (most recent call last)",
      "\u001b[1;32m<ipython-input-72-656a7c4f45d3>\u001b[0m in \u001b[0;36m<module>\u001b[1;34m()\u001b[0m\n\u001b[0;32m      1\u001b[0m res = minimize(evaluate, init_weights,\n\u001b[0;32m      2\u001b[0m                \u001b[0margs\u001b[0m\u001b[1;33m=\u001b[0m\u001b[1;33m(\u001b[0m\u001b[0mX\u001b[0m\u001b[1;33m,\u001b[0m \u001b[0mY\u001b[0m\u001b[1;33m)\u001b[0m\u001b[1;33m,\u001b[0m\u001b[1;33m\u001b[0m\u001b[0m\n\u001b[1;32m----> 3\u001b[1;33m                method='L-BFGS-B')\n\u001b[0m",
      "\u001b[1;32m/usr/lib/python2.7/dist-packages/scipy/optimize/_minimize.pyc\u001b[0m in \u001b[0;36mminimize\u001b[1;34m(fun, x0, args, method, jac, hess, hessp, bounds, constraints, tol, callback, options)\u001b[0m\n\u001b[0;32m    378\u001b[0m     \u001b[1;32melif\u001b[0m \u001b[0mmeth\u001b[0m \u001b[1;33m==\u001b[0m \u001b[1;34m'l-bfgs-b'\u001b[0m\u001b[1;33m:\u001b[0m\u001b[1;33m\u001b[0m\u001b[0m\n\u001b[0;32m    379\u001b[0m         return _minimize_lbfgsb(fun, x0, args, jac, bounds,\n\u001b[1;32m--> 380\u001b[1;33m                                 callback=callback, **options)\n\u001b[0m\u001b[0;32m    381\u001b[0m     \u001b[1;32melif\u001b[0m \u001b[0mmeth\u001b[0m \u001b[1;33m==\u001b[0m \u001b[1;34m'tnc'\u001b[0m\u001b[1;33m:\u001b[0m\u001b[1;33m\u001b[0m\u001b[0m\n\u001b[0;32m    382\u001b[0m         return _minimize_tnc(fun, x0, args, jac, bounds, callback=callback,\n",
      "\u001b[1;32m/usr/lib/python2.7/dist-packages/scipy/optimize/lbfgsb.pyc\u001b[0m in \u001b[0;36m_minimize_lbfgsb\u001b[1;34m(fun, x0, args, jac, bounds, disp, maxcor, ftol, gtol, eps, maxfun, maxiter, iprint, callback, **unknown_options)\u001b[0m\n\u001b[0;32m    315\u001b[0m                 \u001b[0mn_function_evals\u001b[0m \u001b[1;33m+=\u001b[0m \u001b[1;36m1\u001b[0m\u001b[1;33m\u001b[0m\u001b[0m\n\u001b[0;32m    316\u001b[0m                 \u001b[1;31m# Overwrite f and g:\u001b[0m\u001b[1;33m\u001b[0m\u001b[1;33m\u001b[0m\u001b[0m\n\u001b[1;32m--> 317\u001b[1;33m                 \u001b[0mf\u001b[0m\u001b[1;33m,\u001b[0m \u001b[0mg\u001b[0m \u001b[1;33m=\u001b[0m \u001b[0mfunc_and_grad\u001b[0m\u001b[1;33m(\u001b[0m\u001b[0mx\u001b[0m\u001b[1;33m)\u001b[0m\u001b[1;33m\u001b[0m\u001b[0m\n\u001b[0m\u001b[0;32m    318\u001b[0m         \u001b[1;32melif\u001b[0m \u001b[0mtask_str\u001b[0m\u001b[1;33m.\u001b[0m\u001b[0mstartswith\u001b[0m\u001b[1;33m(\u001b[0m\u001b[1;34mb'NEW_X'\u001b[0m\u001b[1;33m)\u001b[0m\u001b[1;33m:\u001b[0m\u001b[1;33m\u001b[0m\u001b[0m\n\u001b[0;32m    319\u001b[0m             \u001b[1;31m# new iteration\u001b[0m\u001b[1;33m\u001b[0m\u001b[1;33m\u001b[0m\u001b[0m\n",
      "\u001b[1;32m/usr/lib/python2.7/dist-packages/scipy/optimize/lbfgsb.pyc\u001b[0m in \u001b[0;36mfunc_and_grad\u001b[1;34m(x)\u001b[0m\n\u001b[0;32m    257\u001b[0m         \u001b[1;32mdef\u001b[0m \u001b[0mfunc_and_grad\u001b[0m\u001b[1;33m(\u001b[0m\u001b[0mx\u001b[0m\u001b[1;33m)\u001b[0m\u001b[1;33m:\u001b[0m\u001b[1;33m\u001b[0m\u001b[0m\n\u001b[0;32m    258\u001b[0m             \u001b[0mf\u001b[0m \u001b[1;33m=\u001b[0m \u001b[0mfun\u001b[0m\u001b[1;33m(\u001b[0m\u001b[0mx\u001b[0m\u001b[1;33m,\u001b[0m \u001b[1;33m*\u001b[0m\u001b[0margs\u001b[0m\u001b[1;33m)\u001b[0m\u001b[1;33m\u001b[0m\u001b[0m\n\u001b[1;32m--> 259\u001b[1;33m             \u001b[0mg\u001b[0m \u001b[1;33m=\u001b[0m \u001b[0mapprox_fprime\u001b[0m\u001b[1;33m(\u001b[0m\u001b[0mx\u001b[0m\u001b[1;33m,\u001b[0m \u001b[0mfun\u001b[0m\u001b[1;33m,\u001b[0m \u001b[0mepsilon\u001b[0m\u001b[1;33m,\u001b[0m \u001b[1;33m*\u001b[0m\u001b[0margs\u001b[0m\u001b[1;33m)\u001b[0m\u001b[1;33m\u001b[0m\u001b[0m\n\u001b[0m\u001b[0;32m    260\u001b[0m             \u001b[1;32mreturn\u001b[0m \u001b[0mf\u001b[0m\u001b[1;33m,\u001b[0m \u001b[0mg\u001b[0m\u001b[1;33m\u001b[0m\u001b[0m\n\u001b[0;32m    261\u001b[0m     \u001b[1;32melse\u001b[0m\u001b[1;33m:\u001b[0m\u001b[1;33m\u001b[0m\u001b[0m\n",
      "\u001b[1;32m/usr/lib/python2.7/dist-packages/scipy/optimize/optimize.pyc\u001b[0m in \u001b[0;36mapprox_fprime\u001b[1;34m(xk, f, epsilon, *args)\u001b[0m\n\u001b[0;32m    608\u001b[0m         \u001b[0mei\u001b[0m\u001b[1;33m[\u001b[0m\u001b[0mk\u001b[0m\u001b[1;33m]\u001b[0m \u001b[1;33m=\u001b[0m \u001b[1;36m1.0\u001b[0m\u001b[1;33m\u001b[0m\u001b[0m\n\u001b[0;32m    609\u001b[0m         \u001b[0md\u001b[0m \u001b[1;33m=\u001b[0m \u001b[0mepsilon\u001b[0m \u001b[1;33m*\u001b[0m \u001b[0mei\u001b[0m\u001b[1;33m\u001b[0m\u001b[0m\n\u001b[1;32m--> 610\u001b[1;33m         \u001b[0mgrad\u001b[0m\u001b[1;33m[\u001b[0m\u001b[0mk\u001b[0m\u001b[1;33m]\u001b[0m \u001b[1;33m=\u001b[0m \u001b[1;33m(\u001b[0m\u001b[0mf\u001b[0m\u001b[1;33m(\u001b[0m\u001b[1;33m*\u001b[0m\u001b[1;33m(\u001b[0m\u001b[1;33m(\u001b[0m\u001b[0mxk\u001b[0m \u001b[1;33m+\u001b[0m \u001b[0md\u001b[0m\u001b[1;33m,\u001b[0m\u001b[1;33m)\u001b[0m \u001b[1;33m+\u001b[0m \u001b[0margs\u001b[0m\u001b[1;33m)\u001b[0m\u001b[1;33m)\u001b[0m \u001b[1;33m-\u001b[0m \u001b[0mf0\u001b[0m\u001b[1;33m)\u001b[0m \u001b[1;33m/\u001b[0m \u001b[0md\u001b[0m\u001b[1;33m[\u001b[0m\u001b[0mk\u001b[0m\u001b[1;33m]\u001b[0m\u001b[1;33m\u001b[0m\u001b[0m\n\u001b[0m\u001b[0;32m    611\u001b[0m         \u001b[0mei\u001b[0m\u001b[1;33m[\u001b[0m\u001b[0mk\u001b[0m\u001b[1;33m]\u001b[0m \u001b[1;33m=\u001b[0m \u001b[1;36m0.0\u001b[0m\u001b[1;33m\u001b[0m\u001b[0m\n\u001b[0;32m    612\u001b[0m \u001b[1;33m\u001b[0m\u001b[0m\n",
      "\u001b[1;32m<ipython-input-66-00aac7d83993>\u001b[0m in \u001b[0;36mevaluate\u001b[1;34m(weights, X, Y)\u001b[0m\n\u001b[0;32m      6\u001b[0m             \u001b[0mpoly\u001b[0m \u001b[1;33m=\u001b[0m \u001b[1;36m0\u001b[0m\u001b[1;33m\u001b[0m\u001b[0m\n\u001b[0;32m      7\u001b[0m             \u001b[1;32mfor\u001b[0m \u001b[0mk\u001b[0m \u001b[1;32min\u001b[0m \u001b[0mrange\u001b[0m\u001b[1;33m(\u001b[0m\u001b[1;36m4\u001b[0m\u001b[1;33m)\u001b[0m\u001b[1;33m:\u001b[0m\u001b[1;33m\u001b[0m\u001b[0m\n\u001b[1;32m----> 8\u001b[1;33m                 \u001b[0mpoly\u001b[0m \u001b[1;33m+=\u001b[0m \u001b[0mweights\u001b[0m\u001b[1;33m[\u001b[0m\u001b[0mj\u001b[0m \u001b[1;33m*\u001b[0m \u001b[1;36m5\u001b[0m \u001b[1;33m+\u001b[0m \u001b[0mk\u001b[0m\u001b[1;33m]\u001b[0m \u001b[1;33m*\u001b[0m \u001b[0mX\u001b[0m\u001b[1;33m[\u001b[0m\u001b[0mi\u001b[0m\u001b[1;33m]\u001b[0m\u001b[1;33m[\u001b[0m\u001b[0mj\u001b[0m\u001b[1;33m]\u001b[0m\u001b[1;33m**\u001b[0m\u001b[0mk\u001b[0m\u001b[1;33m\u001b[0m\u001b[0m\n\u001b[0m\u001b[0;32m      9\u001b[0m             \u001b[0mestimate\u001b[0m \u001b[1;33m+=\u001b[0m \u001b[0mweights\u001b[0m\u001b[1;33m[\u001b[0m\u001b[0mj\u001b[0m \u001b[1;33m*\u001b[0m \u001b[1;36m5\u001b[0m \u001b[1;33m+\u001b[0m \u001b[1;36m4\u001b[0m\u001b[1;33m]\u001b[0m \u001b[1;33m*\u001b[0m \u001b[0mpoly\u001b[0m\u001b[1;33m\u001b[0m\u001b[0m\n\u001b[0;32m     10\u001b[0m         \u001b[1;31m# check difference with ground truth\u001b[0m\u001b[1;33m\u001b[0m\u001b[1;33m\u001b[0m\u001b[0m\n",
      "\u001b[1;31mKeyboardInterrupt\u001b[0m: "
     ]
    }
   ],
   "source": [
    "res = minimize(evaluate, init_weights,\n",
    "               args=(X, Y),\n",
    "               method='L-BFGS-B')"
   ]
  },
  {
   "cell_type": "code",
   "execution_count": null,
   "metadata": {
    "collapsed": false
   },
   "outputs": [],
   "source": [
    "res"
   ]
  },
  {
   "cell_type": "code",
   "execution_count": null,
   "metadata": {
    "collapsed": true
   },
   "outputs": [],
   "source": []
  }
 ],
 "metadata": {
  "kernelspec": {
   "display_name": "Python 2",
   "language": "python",
   "name": "python2"
  },
  "language_info": {
   "codemirror_mode": {
    "name": "ipython",
    "version": 2
   },
   "file_extension": ".py",
   "mimetype": "text/x-python",
   "name": "python",
   "nbconvert_exporter": "python",
   "pygments_lexer": "ipython2",
   "version": "2.7.6"
  }
 },
 "nbformat": 4,
 "nbformat_minor": 0
}
