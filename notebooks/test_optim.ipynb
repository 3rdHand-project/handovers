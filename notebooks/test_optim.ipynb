{
 "metadata": {
  "name": ""
 },
 "nbformat": 3,
 "nbformat_minor": 0,
 "worksheets": [
  {
   "cells": [
    {
     "cell_type": "code",
     "collapsed": false,
     "input": [
      "from reba_optim.reba_optimization import RebaOptimization\n",
      "from sympy import *\n",
      "from scipy.optimize import minimize\n",
      "from sensor_msgs.msg import JointState\n",
      "import rospy\n",
      "from copy import copy\n",
      "from reba_optim.tools.interpolation import *\n",
      "import tf"
     ],
     "language": "python",
     "metadata": {},
     "outputs": [],
     "prompt_number": 54
    },
    {
     "cell_type": "markdown",
     "metadata": {},
     "source": [
      "### Test REBA score"
     ]
    },
    {
     "cell_type": "code",
     "collapsed": false,
     "input": [
      "rospy.init_node('test')\n",
      "joint_publisher = rospy.Publisher('/human/joint_states', JointState, queue_size=1)\n",
      "distance = [[0.5,1.],[-10.,10.],[-10,10]]\n",
      "optim = RebaOptimization(eye(3), distance, sum_optim=True, save_score=False, cost_factors=[1,5,0])"
     ],
     "language": "python",
     "metadata": {},
     "outputs": [],
     "prompt_number": 40
    },
    {
     "cell_type": "code",
     "collapsed": false,
     "input": [
      "def print_joints(joints, names):\n",
      "    for i in range(len(joints)):\n",
      "        print names[i]+' = '+str(joints[i])"
     ],
     "language": "python",
     "metadata": {},
     "outputs": [],
     "prompt_number": 41
    },
    {
     "cell_type": "code",
     "collapsed": false,
     "input": [
      "def publish(joints, joint_names, p):\n",
      "    rate = rospy.Rate(10)\n",
      "    for i in range(2):\n",
      "        joint_names.append('right_hip_'+str(i))\n",
      "        joints.append(0.0)\n",
      "        joint_names.append('left_hip_'+str(i))\n",
      "        joints.append(0.0)\n",
      "        joint_names.append('right_ankle_'+str(i))\n",
      "        joints.append(0.0)\n",
      "        joint_names.append('left_ankle_'+str(i))\n",
      "        joints.append(0.0)\n",
      "    joint_names.append('right_hip_2')\n",
      "    joints.append(0.0)\n",
      "    joint_names.append('left_hip_2')\n",
      "    joints.append(0.0)\n",
      "    \n",
      "    for i in range(10):\n",
      "        # create joint state msg\n",
      "        joint_states_msg = JointState()\n",
      "        # update header with time and frame id\n",
      "        joint_states_msg.header.stamp = rospy.Time.now()\n",
      "        joint_states_msg.header.frame_id = '/human/hip'\n",
      "        # fill message\n",
      "        joint_states_msg.name = joint_names\n",
      "        joint_states_msg.position = joints\n",
      "        # publish joint state\n",
      "        p.publish(joint_states_msg)\n",
      "        rate.sleep()"
     ],
     "language": "python",
     "metadata": {},
     "outputs": [],
     "prompt_number": 42
    },
    {
     "cell_type": "code",
     "collapsed": false,
     "input": [
      "joints = optim.model.get_random_pose().tolist()"
     ],
     "language": "python",
     "metadata": {},
     "outputs": [],
     "prompt_number": 43
    },
    {
     "cell_type": "code",
     "collapsed": false,
     "input": [
      "# publish initial pose\n",
      "publish(copy(joints), copy(optim.model.joint_names), joint_publisher)"
     ],
     "language": "python",
     "metadata": {},
     "outputs": [],
     "prompt_number": 44
    },
    {
     "cell_type": "code",
     "collapsed": false,
     "input": [
      "optim.cost_function(joints)"
     ],
     "language": "python",
     "metadata": {},
     "outputs": [
      {
       "metadata": {},
       "output_type": "pyout",
       "prompt_number": 45,
       "text": [
        "97.4034257881226"
       ]
      }
     ],
     "prompt_number": 45
    },
    {
     "cell_type": "code",
     "collapsed": false,
     "input": [
      "res = optim.optimize_posture(joints)\n",
      "opt_joints = res.x.tolist()"
     ],
     "language": "python",
     "metadata": {},
     "outputs": [],
     "prompt_number": 46
    },
    {
     "cell_type": "code",
     "collapsed": false,
     "input": [
      "# publish optimized pose\n",
      "publish(copy(opt_joints), copy(optim.model.joint_names), joint_publisher)"
     ],
     "language": "python",
     "metadata": {},
     "outputs": [],
     "prompt_number": 50
    },
    {
     "cell_type": "code",
     "collapsed": false,
     "input": [
      "print_joints(opt_joints, optim.model.joint_names)"
     ],
     "language": "python",
     "metadata": {},
     "outputs": [
      {
       "output_type": "stream",
       "stream": "stdout",
       "text": [
        "spine_0 = -0.0511946660439\n",
        "neck_0 = -0.0698456005006\n",
        "right_shoulder_0 = 1.08000655269\n",
        "left_shoulder_0 = 1.52295594879\n",
        "spine_1 = -0.208508438713\n",
        "neck_1 = -0.0494298964851\n",
        "right_shoulder_1 = 0.0751564622584\n",
        "left_shoulder_1 = -0.0330223199675\n",
        "spine_2 = 0.475042185369\n",
        "neck_2 = -0.0490970941263\n",
        "right_shoulder_2 = 0.0784930392514\n",
        "left_shoulder_2 = -0.0299578684877\n",
        "right_elbow_0 = 0.876510063939\n",
        "left_elbow_0 = -0.926865216276\n",
        "right_wrist_0 = -0.00663809083684\n",
        "left_wrist_0 = -0.0398644788474\n",
        "right_elbow_1 = 0.0\n",
        "left_elbow_1 = -0.0354739354493\n",
        "right_wrist_1 = -0.0521908360229\n",
        "left_wrist_1 = -0.0495455033213\n",
        "right_knee = -0.0555400390425\n",
        "left_knee = -0.056753929934\n"
       ]
      }
     ],
     "prompt_number": 51
    },
    {
     "cell_type": "code",
     "collapsed": false,
     "input": [
      "# first get the active joints\n",
      "active = optim.get_active_joints_value(opt_joints)\n",
      "# calculate the forward kinematic\n",
      "T = optim.model.forward_kinematic(active)"
     ],
     "language": "python",
     "metadata": {},
     "outputs": [],
     "prompt_number": 52
    },
    {
     "cell_type": "code",
     "collapsed": false,
     "input": [
      "T"
     ],
     "language": "python",
     "metadata": {},
     "outputs": [
      {
       "metadata": {},
       "output_type": "pyout",
       "prompt_number": 53,
       "text": [
        "Matrix([\n",
        "[ 0.962177973404357, 0.204031058162467,  0.180512810627361,  0.491555292530095],\n",
        "[ 0.020302782489851,  0.60707397229687, -0.794385919552247, -0.272832507276197],\n",
        "[-0.271664028753633, 0.768005546506537,  0.579970806176088, 0.0347587043960659],\n",
        "[                 0,                 0,                  0,                1.0]])"
       ]
      }
     ],
     "prompt_number": 53
    },
    {
     "cell_type": "code",
     "collapsed": false,
     "input": [
      "trans = tf.transformations.translation_from_matrix(T)\n",
      "quat = tf.transformations.quaternion_from_matrix(sympy_to_numpy(T))"
     ],
     "language": "python",
     "metadata": {},
     "outputs": [],
     "prompt_number": 60
    },
    {
     "cell_type": "code",
     "collapsed": false,
     "input": [
      "def sympy_to_numpy(m):\n",
      "    return "
     ],
     "language": "python",
     "metadata": {},
     "outputs": [],
     "prompt_number": 59
    },
    {
     "cell_type": "code",
     "collapsed": false,
     "input": [],
     "language": "python",
     "metadata": {},
     "outputs": []
    }
   ],
   "metadata": {}
  }
 ]
}