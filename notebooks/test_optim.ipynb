{
 "metadata": {
  "name": ""
 },
 "nbformat": 3,
 "nbformat_minor": 0,
 "worksheets": [
  {
   "cells": [
    {
     "cell_type": "code",
     "collapsed": false,
     "input": [
      "from reba_optim.reba_optimization import RebaOptimization\n",
      "from sympy import *\n",
      "from scipy.optimize import minimize\n",
      "from sensor_msgs.msg import JointState\n",
      "import rospy\n",
      "from copy import copy\n",
      "from reba_optim.tools.interpolation import *\n",
      "from kinect_skeleton_publisher.joint_transformations import *\n",
      "import tf\n",
      "import transformations"
     ],
     "language": "python",
     "metadata": {},
     "outputs": [],
     "prompt_number": 27
    },
    {
     "cell_type": "markdown",
     "metadata": {},
     "source": [
      "### Test REBA score"
     ]
    },
    {
     "cell_type": "code",
     "collapsed": false,
     "input": [
      "rospy.init_node('test')\n",
      "joint_publisher = rospy.Publisher('/human/joint_states', JointState, queue_size=1)\n",
      "distance = [[0.5,1.],[-10.,10.],[-10,10]]\n",
      "optim = RebaOptimization(eye(3), distance, sum_optim=True, save_score=False, cost_factors=[1,5,0])"
     ],
     "language": "python",
     "metadata": {},
     "outputs": [],
     "prompt_number": 2
    },
    {
     "cell_type": "code",
     "collapsed": false,
     "input": [
      "tfb = tf.TransformBroadcaster()\n",
      "tfl = tf.TransformListener()"
     ],
     "language": "python",
     "metadata": {},
     "outputs": [],
     "prompt_number": 23
    },
    {
     "cell_type": "code",
     "collapsed": false,
     "input": [
      "def print_joints(joints, names):\n",
      "    for i in range(len(joints)):\n",
      "        print names[i]+' = '+str(joints[i])"
     ],
     "language": "python",
     "metadata": {},
     "outputs": [],
     "prompt_number": 3
    },
    {
     "cell_type": "code",
     "collapsed": false,
     "input": [
      "def publish(joints, joint_names, p, nb_run):\n",
      "    rate = rospy.Rate(10)\n",
      "    for i in range(2):\n",
      "        joint_names.append('right_hip_'+str(i))\n",
      "        joints.append(0.0)\n",
      "        joint_names.append('left_hip_'+str(i))\n",
      "        joints.append(0.0)\n",
      "        joint_names.append('right_ankle_'+str(i))\n",
      "        joints.append(0.0)\n",
      "        joint_names.append('left_ankle_'+str(i))\n",
      "        joints.append(0.0)\n",
      "    joint_names.append('right_hip_2')\n",
      "    joints.append(0.0)\n",
      "    joint_names.append('left_hip_2')\n",
      "    joints.append(0.0)\n",
      "    \n",
      "    for i in range(nb_run):\n",
      "        # create joint state msg\n",
      "        joint_states_msg = JointState()\n",
      "        # update header with time and frame id\n",
      "        joint_states_msg.header.stamp = rospy.Time.now()\n",
      "        joint_states_msg.header.frame_id = '/human/hip'\n",
      "        # fill message\n",
      "        joint_states_msg.name = joint_names\n",
      "        joint_states_msg.position = joints\n",
      "        # publish joint state\n",
      "        p.publish(joint_states_msg)\n",
      "        rate.sleep()"
     ],
     "language": "python",
     "metadata": {},
     "outputs": [],
     "prompt_number": 32
    },
    {
     "cell_type": "code",
     "collapsed": false,
     "input": [
      "def send_tf(tf_hand, nb_run):\n",
      "    rate = rospy.Rate(10)\n",
      "    for i in range(nb_run):\n",
      "        # get hip pose in vrep frame\n",
      "        tf_hip = tfl.lookupTransform('/vrep_frame', '/human/hip', rospy.Time(0))\n",
      "        # multiply the two tf\n",
      "        tf_hand_over = transformations.multiply_transform(tf_hip, tf_hand)\n",
      "        tfb.sendTransform(tf_hand_over[0], tf_hand_over[1], rospy.Time.now(), '/vrep/hand_over', '/vrep_frame')\n",
      "        rate.sleep()"
     ],
     "language": "python",
     "metadata": {},
     "outputs": [],
     "prompt_number": 33
    },
    {
     "cell_type": "code",
     "collapsed": false,
     "input": [
      "def send_transforms(tf_hand, joints, joint_names, publisher, nb_run):\n",
      "    rate = rospy.Rate(10)\n",
      "    for i in range(nb_run):\n",
      "        # publish joints\n",
      "        publish(copy(joints), copy(joint_names), publisher, 1)\n",
      "        # publish tf\n",
      "        send_tf(tf_hand,1)\n",
      "        rate.sleep()"
     ],
     "language": "python",
     "metadata": {},
     "outputs": [],
     "prompt_number": 35
    },
    {
     "cell_type": "code",
     "collapsed": false,
     "input": [
      "joints = optim.model.get_random_pose().tolist()"
     ],
     "language": "python",
     "metadata": {},
     "outputs": [],
     "prompt_number": 6
    },
    {
     "cell_type": "code",
     "collapsed": false,
     "input": [
      "# publish initial pose\n",
      "publish(copy(joints), copy(optim.model.joint_names), joint_publisher, 1000)"
     ],
     "language": "python",
     "metadata": {},
     "outputs": [],
     "prompt_number": 7
    },
    {
     "cell_type": "code",
     "collapsed": false,
     "input": [
      "optim.cost_function(joints)"
     ],
     "language": "python",
     "metadata": {},
     "outputs": [
      {
       "metadata": {},
       "output_type": "pyout",
       "prompt_number": 8,
       "text": [
        "134.714793241943"
       ]
      }
     ],
     "prompt_number": 8
    },
    {
     "cell_type": "code",
     "collapsed": false,
     "input": [
      "res = optim.optimize_posture(joints)\n",
      "opt_joints = res.x.tolist()"
     ],
     "language": "python",
     "metadata": {},
     "outputs": [],
     "prompt_number": 9
    },
    {
     "cell_type": "code",
     "collapsed": false,
     "input": [
      "# publish optimized pose\n",
      "publish(copy(opt_joints), copy(optim.model.joint_names), joint_publisher, 1000)"
     ],
     "language": "python",
     "metadata": {},
     "outputs": [],
     "prompt_number": 10
    },
    {
     "cell_type": "code",
     "collapsed": false,
     "input": [
      "print_joints(opt_joints, optim.model.joint_names)"
     ],
     "language": "python",
     "metadata": {},
     "outputs": [
      {
       "output_type": "stream",
       "stream": "stdout",
       "text": [
        "spine_0 = -0.0614443377198\n",
        "neck_0 = -0.101731281426\n",
        "right_shoulder_0 = 1.05586817297\n",
        "left_shoulder_0 = 1.38186218481\n",
        "spine_1 = -0.0991759666961\n",
        "neck_1 = -0.0527409943449\n",
        "right_shoulder_1 = 0.136639206346\n",
        "left_shoulder_1 = -0.0413563164482\n",
        "spine_2 = 0.618651265139\n",
        "neck_2 = -0.0411882915569\n",
        "right_shoulder_2 = 0.124726979262\n",
        "left_shoulder_2 = -0.0120040558314\n",
        "right_elbow_0 = 0.868197434149\n",
        "left_elbow_0 = -0.934511073565\n",
        "right_wrist_0 = 0.0122726208648\n",
        "left_wrist_0 = -0.0796987684455\n",
        "right_elbow_1 = 0.0\n",
        "left_elbow_1 = -0.0511879633738\n",
        "right_wrist_1 = -0.0527832520878\n",
        "left_wrist_1 = -0.0482851844087\n",
        "right_knee = -0.0542693475065\n",
        "left_knee = -0.0535070142616\n"
       ]
      }
     ],
     "prompt_number": 11
    },
    {
     "cell_type": "code",
     "collapsed": false,
     "input": [
      "# first get the active joints\n",
      "active = optim.get_active_joints_value(opt_joints)\n",
      "# calculate the forward kinematic\n",
      "T = optim.model.forward_kinematic(active)*rotation_y(pi/2)"
     ],
     "language": "python",
     "metadata": {},
     "outputs": [],
     "prompt_number": 42
    },
    {
     "cell_type": "code",
     "collapsed": false,
     "input": [
      "trans = tf.transformations.translation_from_matrix(T)\n",
      "quat = tf.transformations.quaternion_from_matrix(sympy_to_numpy(T))\n",
      "tf_hand = [trans,quat]\n",
      "send_transforms(tf_hand, opt_joints, optim.model.joint_names, joint_publisher, 1000)"
     ],
     "language": "python",
     "metadata": {},
     "outputs": [
      {
       "ename": "ExtrapolationException",
       "evalue": "Lookup would require extrapolation into the past.  Requested time 1448450191.286366940 but the earliest data is at time 1448450191.306849957, when looking up transform from frame [human/hip] to frame [vrep_frame]",
       "output_type": "pyerr",
       "traceback": [
        "\u001b[0;31m---------------------------------------------------------------------------\u001b[0m\n\u001b[0;31mExtrapolationException\u001b[0m                    Traceback (most recent call last)",
        "\u001b[0;32m<ipython-input-43-45b37430f7d2>\u001b[0m in \u001b[0;36m<module>\u001b[0;34m()\u001b[0m\n\u001b[1;32m      2\u001b[0m \u001b[0mquat\u001b[0m \u001b[0;34m=\u001b[0m \u001b[0mtf\u001b[0m\u001b[0;34m.\u001b[0m\u001b[0mtransformations\u001b[0m\u001b[0;34m.\u001b[0m\u001b[0mquaternion_from_matrix\u001b[0m\u001b[0;34m(\u001b[0m\u001b[0msympy_to_numpy\u001b[0m\u001b[0;34m(\u001b[0m\u001b[0mT\u001b[0m\u001b[0;34m)\u001b[0m\u001b[0;34m)\u001b[0m\u001b[0;34m\u001b[0m\u001b[0m\n\u001b[1;32m      3\u001b[0m \u001b[0mtf_hand\u001b[0m \u001b[0;34m=\u001b[0m \u001b[0;34m[\u001b[0m\u001b[0mtrans\u001b[0m\u001b[0;34m,\u001b[0m\u001b[0mquat\u001b[0m\u001b[0;34m]\u001b[0m\u001b[0;34m\u001b[0m\u001b[0m\n\u001b[0;32m----> 4\u001b[0;31m \u001b[0msend_transforms\u001b[0m\u001b[0;34m(\u001b[0m\u001b[0mtf_hand\u001b[0m\u001b[0;34m,\u001b[0m \u001b[0mopt_joints\u001b[0m\u001b[0;34m,\u001b[0m \u001b[0moptim\u001b[0m\u001b[0;34m.\u001b[0m\u001b[0mmodel\u001b[0m\u001b[0;34m.\u001b[0m\u001b[0mjoint_names\u001b[0m\u001b[0;34m,\u001b[0m \u001b[0mjoint_publisher\u001b[0m\u001b[0;34m,\u001b[0m \u001b[0;36m1000\u001b[0m\u001b[0;34m)\u001b[0m\u001b[0;34m\u001b[0m\u001b[0m\n\u001b[0m",
        "\u001b[0;32m<ipython-input-35-ad62d6ba6745>\u001b[0m in \u001b[0;36msend_transforms\u001b[0;34m(tf_hand, joints, joint_names, publisher, nb_run)\u001b[0m\n\u001b[1;32m      5\u001b[0m         \u001b[0mpublish\u001b[0m\u001b[0;34m(\u001b[0m\u001b[0mcopy\u001b[0m\u001b[0;34m(\u001b[0m\u001b[0mjoints\u001b[0m\u001b[0;34m)\u001b[0m\u001b[0;34m,\u001b[0m \u001b[0mcopy\u001b[0m\u001b[0;34m(\u001b[0m\u001b[0mjoint_names\u001b[0m\u001b[0;34m)\u001b[0m\u001b[0;34m,\u001b[0m \u001b[0mpublisher\u001b[0m\u001b[0;34m,\u001b[0m \u001b[0;36m1\u001b[0m\u001b[0;34m)\u001b[0m\u001b[0;34m\u001b[0m\u001b[0m\n\u001b[1;32m      6\u001b[0m         \u001b[0;31m# publish tf\u001b[0m\u001b[0;34m\u001b[0m\u001b[0;34m\u001b[0m\u001b[0m\n\u001b[0;32m----> 7\u001b[0;31m         \u001b[0msend_tf\u001b[0m\u001b[0;34m(\u001b[0m\u001b[0mtf_hand\u001b[0m\u001b[0;34m,\u001b[0m\u001b[0;36m1\u001b[0m\u001b[0;34m)\u001b[0m\u001b[0;34m\u001b[0m\u001b[0m\n\u001b[0m\u001b[1;32m      8\u001b[0m         \u001b[0mrate\u001b[0m\u001b[0;34m.\u001b[0m\u001b[0msleep\u001b[0m\u001b[0;34m(\u001b[0m\u001b[0;34m)\u001b[0m\u001b[0;34m\u001b[0m\u001b[0m\n",
        "\u001b[0;32m<ipython-input-33-0f1f2d43b01d>\u001b[0m in \u001b[0;36msend_tf\u001b[0;34m(tf_hand, nb_run)\u001b[0m\n\u001b[1;32m      3\u001b[0m     \u001b[0;32mfor\u001b[0m \u001b[0mi\u001b[0m \u001b[0;32min\u001b[0m \u001b[0mrange\u001b[0m\u001b[0;34m(\u001b[0m\u001b[0mnb_run\u001b[0m\u001b[0;34m)\u001b[0m\u001b[0;34m:\u001b[0m\u001b[0;34m\u001b[0m\u001b[0m\n\u001b[1;32m      4\u001b[0m         \u001b[0;31m# get hip pose in vrep frame\u001b[0m\u001b[0;34m\u001b[0m\u001b[0;34m\u001b[0m\u001b[0m\n\u001b[0;32m----> 5\u001b[0;31m         \u001b[0mtf_hip\u001b[0m \u001b[0;34m=\u001b[0m \u001b[0mtfl\u001b[0m\u001b[0;34m.\u001b[0m\u001b[0mlookupTransform\u001b[0m\u001b[0;34m(\u001b[0m\u001b[0;34m'/vrep_frame'\u001b[0m\u001b[0;34m,\u001b[0m \u001b[0;34m'/human/hip'\u001b[0m\u001b[0;34m,\u001b[0m \u001b[0mrospy\u001b[0m\u001b[0;34m.\u001b[0m\u001b[0mTime\u001b[0m\u001b[0;34m(\u001b[0m\u001b[0;36m0\u001b[0m\u001b[0;34m)\u001b[0m\u001b[0;34m)\u001b[0m\u001b[0;34m\u001b[0m\u001b[0m\n\u001b[0m\u001b[1;32m      6\u001b[0m         \u001b[0;31m# multiply the two tf\u001b[0m\u001b[0;34m\u001b[0m\u001b[0;34m\u001b[0m\u001b[0m\n\u001b[1;32m      7\u001b[0m         \u001b[0mtf_hand_over\u001b[0m \u001b[0;34m=\u001b[0m \u001b[0mtransformations\u001b[0m\u001b[0;34m.\u001b[0m\u001b[0mmultiply_transform\u001b[0m\u001b[0;34m(\u001b[0m\u001b[0mtf_hip\u001b[0m\u001b[0;34m,\u001b[0m \u001b[0mtf_hand\u001b[0m\u001b[0;34m)\u001b[0m\u001b[0;34m\u001b[0m\u001b[0m\n",
        "\u001b[0;31mExtrapolationException\u001b[0m: Lookup would require extrapolation into the past.  Requested time 1448450191.286366940 but the earliest data is at time 1448450191.306849957, when looking up transform from frame [human/hip] to frame [vrep_frame]"
       ]
      }
     ],
     "prompt_number": 43
    },
    {
     "cell_type": "code",
     "collapsed": false,
     "input": [
      "zero_pose = np.zeros(len(optim.model.joint_names)).tolist()\n",
      "# publish initial pose\n",
      "publish(copy(zero_pose), copy(optim.model.joint_names), joint_publisher, 10000)"
     ],
     "language": "python",
     "metadata": {},
     "outputs": [
      {
       "ename": "KeyboardInterrupt",
       "evalue": "",
       "output_type": "pyerr",
       "traceback": [
        "\u001b[0;31m---------------------------------------------------------------------------\u001b[0m\n\u001b[0;31mKeyboardInterrupt\u001b[0m                         Traceback (most recent call last)",
        "\u001b[0;32m<ipython-input-20-4aab2e1d9451>\u001b[0m in \u001b[0;36m<module>\u001b[0;34m()\u001b[0m\n\u001b[1;32m      1\u001b[0m \u001b[0mzero_pose\u001b[0m \u001b[0;34m=\u001b[0m \u001b[0mnp\u001b[0m\u001b[0;34m.\u001b[0m\u001b[0mzeros\u001b[0m\u001b[0;34m(\u001b[0m\u001b[0mlen\u001b[0m\u001b[0;34m(\u001b[0m\u001b[0moptim\u001b[0m\u001b[0;34m.\u001b[0m\u001b[0mmodel\u001b[0m\u001b[0;34m.\u001b[0m\u001b[0mjoint_names\u001b[0m\u001b[0;34m)\u001b[0m\u001b[0;34m)\u001b[0m\u001b[0;34m.\u001b[0m\u001b[0mtolist\u001b[0m\u001b[0;34m(\u001b[0m\u001b[0;34m)\u001b[0m\u001b[0;34m\u001b[0m\u001b[0m\n\u001b[1;32m      2\u001b[0m \u001b[0;31m# publish initial pose\u001b[0m\u001b[0;34m\u001b[0m\u001b[0;34m\u001b[0m\u001b[0m\n\u001b[0;32m----> 3\u001b[0;31m \u001b[0mpublish\u001b[0m\u001b[0;34m(\u001b[0m\u001b[0mcopy\u001b[0m\u001b[0;34m(\u001b[0m\u001b[0mzero_pose\u001b[0m\u001b[0;34m)\u001b[0m\u001b[0;34m,\u001b[0m \u001b[0mcopy\u001b[0m\u001b[0;34m(\u001b[0m\u001b[0moptim\u001b[0m\u001b[0;34m.\u001b[0m\u001b[0mmodel\u001b[0m\u001b[0;34m.\u001b[0m\u001b[0mjoint_names\u001b[0m\u001b[0;34m)\u001b[0m\u001b[0;34m,\u001b[0m \u001b[0mjoint_publisher\u001b[0m\u001b[0;34m,\u001b[0m \u001b[0;36m10000\u001b[0m\u001b[0;34m)\u001b[0m\u001b[0;34m\u001b[0m\u001b[0m\n\u001b[0m",
        "\u001b[0;32m<ipython-input-5-af650c224832>\u001b[0m in \u001b[0;36mpublish\u001b[0;34m(joints, joint_names, p, nb_run)\u001b[0m\n\u001b[1;32m     26\u001b[0m         \u001b[0;31m# publish joint state\u001b[0m\u001b[0;34m\u001b[0m\u001b[0;34m\u001b[0m\u001b[0m\n\u001b[1;32m     27\u001b[0m         \u001b[0mp\u001b[0m\u001b[0;34m.\u001b[0m\u001b[0mpublish\u001b[0m\u001b[0;34m(\u001b[0m\u001b[0mjoint_states_msg\u001b[0m\u001b[0;34m)\u001b[0m\u001b[0;34m\u001b[0m\u001b[0m\n\u001b[0;32m---> 28\u001b[0;31m         \u001b[0mrate\u001b[0m\u001b[0;34m.\u001b[0m\u001b[0msleep\u001b[0m\u001b[0;34m(\u001b[0m\u001b[0;34m)\u001b[0m\u001b[0;34m\u001b[0m\u001b[0m\n\u001b[0m",
        "\u001b[0;32m/opt/ros/indigo/lib/python2.7/dist-packages/rospy/timer.pyc\u001b[0m in \u001b[0;36msleep\u001b[0;34m(self)\u001b[0m\n\u001b[1;32m     97\u001b[0m         \"\"\"\n\u001b[1;32m     98\u001b[0m         \u001b[0mcurr_time\u001b[0m \u001b[0;34m=\u001b[0m \u001b[0mrospy\u001b[0m\u001b[0;34m.\u001b[0m\u001b[0mrostime\u001b[0m\u001b[0;34m.\u001b[0m\u001b[0mget_rostime\u001b[0m\u001b[0;34m(\u001b[0m\u001b[0;34m)\u001b[0m\u001b[0;34m\u001b[0m\u001b[0m\n\u001b[0;32m---> 99\u001b[0;31m         \u001b[0msleep\u001b[0m\u001b[0;34m(\u001b[0m\u001b[0mself\u001b[0m\u001b[0;34m.\u001b[0m\u001b[0m_remaining\u001b[0m\u001b[0;34m(\u001b[0m\u001b[0mcurr_time\u001b[0m\u001b[0;34m)\u001b[0m\u001b[0;34m)\u001b[0m\u001b[0;34m\u001b[0m\u001b[0m\n\u001b[0m\u001b[1;32m    100\u001b[0m         \u001b[0mself\u001b[0m\u001b[0;34m.\u001b[0m\u001b[0mlast_time\u001b[0m \u001b[0;34m=\u001b[0m \u001b[0mself\u001b[0m\u001b[0;34m.\u001b[0m\u001b[0mlast_time\u001b[0m \u001b[0;34m+\u001b[0m \u001b[0mself\u001b[0m\u001b[0;34m.\u001b[0m\u001b[0msleep_dur\u001b[0m\u001b[0;34m\u001b[0m\u001b[0m\n\u001b[1;32m    101\u001b[0m \u001b[0;34m\u001b[0m\u001b[0m\n",
        "\u001b[0;32m/opt/ros/indigo/lib/python2.7/dist-packages/rospy/timer.pyc\u001b[0m in \u001b[0;36msleep\u001b[0;34m(duration)\u001b[0m\n\u001b[1;32m    123\u001b[0m             \u001b[0;32mreturn\u001b[0m\u001b[0;34m\u001b[0m\u001b[0m\n\u001b[1;32m    124\u001b[0m         \u001b[0;32melse\u001b[0m\u001b[0;34m:\u001b[0m\u001b[0;34m\u001b[0m\u001b[0m\n\u001b[0;32m--> 125\u001b[0;31m             \u001b[0mrospy\u001b[0m\u001b[0;34m.\u001b[0m\u001b[0mrostime\u001b[0m\u001b[0;34m.\u001b[0m\u001b[0mwallsleep\u001b[0m\u001b[0;34m(\u001b[0m\u001b[0mduration\u001b[0m\u001b[0;34m)\u001b[0m\u001b[0;34m\u001b[0m\u001b[0m\n\u001b[0m\u001b[1;32m    126\u001b[0m     \u001b[0;32melse\u001b[0m\u001b[0;34m:\u001b[0m\u001b[0;34m\u001b[0m\u001b[0m\n\u001b[1;32m    127\u001b[0m         \u001b[0minitial_rostime\u001b[0m \u001b[0;34m=\u001b[0m \u001b[0mrospy\u001b[0m\u001b[0;34m.\u001b[0m\u001b[0mrostime\u001b[0m\u001b[0;34m.\u001b[0m\u001b[0mget_rostime\u001b[0m\u001b[0;34m(\u001b[0m\u001b[0;34m)\u001b[0m\u001b[0;34m\u001b[0m\u001b[0m\n",
        "\u001b[0;32m/opt/ros/indigo/lib/python2.7/dist-packages/rospy/rostime.pyc\u001b[0m in \u001b[0;36mwallsleep\u001b[0;34m(duration)\u001b[0m\n\u001b[1;32m    294\u001b[0m             \u001b[0;32mpass\u001b[0m\u001b[0;34m\u001b[0m\u001b[0m\n\u001b[1;32m    295\u001b[0m     \u001b[0;32melse\u001b[0m\u001b[0;34m:\u001b[0m\u001b[0;34m\u001b[0m\u001b[0m\n\u001b[0;32m--> 296\u001b[0;31m         \u001b[0mtime\u001b[0m\u001b[0;34m.\u001b[0m\u001b[0msleep\u001b[0m\u001b[0;34m(\u001b[0m\u001b[0mduration\u001b[0m\u001b[0;34m)\u001b[0m\u001b[0;34m\u001b[0m\u001b[0m\n\u001b[0m",
        "\u001b[0;31mKeyboardInterrupt\u001b[0m: "
       ]
      }
     ],
     "prompt_number": 20
    },
    {
     "cell_type": "code",
     "collapsed": false,
     "input": [
      "Rot = rotation_y(pi/2)\n",
      "trans = tf.transformations.translation_from_matrix(Rot)\n",
      "quat = tf.transformations.quaternion_from_matrix(sympy_to_numpy(Rot))\n",
      "tf_rot = [trans,quat]"
     ],
     "language": "python",
     "metadata": {},
     "outputs": [],
     "prompt_number": 44
    },
    {
     "cell_type": "code",
     "collapsed": false,
     "input": [
      "tf_rot"
     ],
     "language": "python",
     "metadata": {},
     "outputs": [
      {
       "metadata": {},
       "output_type": "pyout",
       "prompt_number": 45,
       "text": [
        "[array([0, 0, 0], dtype=object),\n",
        " array([ 0.        ,  0.70710678,  0.        ,  0.70710678])]"
       ]
      }
     ],
     "prompt_number": 45
    },
    {
     "cell_type": "code",
     "collapsed": false,
     "input": [],
     "language": "python",
     "metadata": {},
     "outputs": []
    }
   ],
   "metadata": {}
  }
 ]
}