{
 "cells": [
  {
   "cell_type": "code",
   "execution_count": 1,
   "metadata": {
    "collapsed": false
   },
   "outputs": [],
   "source": [
    "import rospy\n",
    "from thr_infrastructure_msgs.srv import GetCarryPose, GetCarryPoseRequest\n",
    "import tf\n",
    "import os\n",
    "import transformations"
   ]
  },
  {
   "cell_type": "code",
   "execution_count": 2,
   "metadata": {
    "collapsed": false
   },
   "outputs": [],
   "source": [
    "rospy.init_node('create_grid')"
   ]
  },
  {
   "cell_type": "code",
   "execution_count": 3,
   "metadata": {
    "collapsed": false
   },
   "outputs": [
    {
     "ename": "KeyboardInterrupt",
     "evalue": "",
     "output_type": "error",
     "traceback": [
      "\u001b[1;31m---------------------------------------------------------------------------\u001b[0m",
      "\u001b[1;31mKeyboardInterrupt\u001b[0m                         Traceback (most recent call last)",
      "\u001b[1;32m<ipython-input-3-e32c71bc8a83>\u001b[0m in \u001b[0;36m<module>\u001b[1;34m()\u001b[0m\n\u001b[0;32m      1\u001b[0m \u001b[0msrv\u001b[0m \u001b[1;33m=\u001b[0m \u001b[0mrospy\u001b[0m\u001b[1;33m.\u001b[0m\u001b[0mServiceProxy\u001b[0m\u001b[1;33m(\u001b[0m\u001b[1;34m'thr/get_carry_pose'\u001b[0m\u001b[1;33m,\u001b[0m \u001b[0mGetCarryPose\u001b[0m\u001b[1;33m)\u001b[0m\u001b[1;33m\u001b[0m\u001b[0m\n\u001b[1;32m----> 2\u001b[1;33m \u001b[0mrospy\u001b[0m\u001b[1;33m.\u001b[0m\u001b[0mwait_for_service\u001b[0m\u001b[1;33m(\u001b[0m\u001b[1;34m'thr/get_carry_pose'\u001b[0m\u001b[1;33m)\u001b[0m\u001b[1;33m\u001b[0m\u001b[0m\n\u001b[0m\u001b[0;32m      3\u001b[0m \u001b[0mtfl\u001b[0m \u001b[1;33m=\u001b[0m \u001b[0mtf\u001b[0m\u001b[1;33m.\u001b[0m\u001b[0mTransformListener\u001b[0m\u001b[1;33m(\u001b[0m\u001b[1;33m)\u001b[0m\u001b[1;33m\u001b[0m\u001b[0m\n",
      "\u001b[1;32m/opt/ros/indigo/lib/python2.7/dist-packages/rospy/impl/tcpros_service.pyc\u001b[0m in \u001b[0;36mwait_for_service\u001b[1;34m(service, timeout)\u001b[0m\n\u001b[0;32m    147\u001b[0m                 \u001b[1;32mif\u001b[0m \u001b[0mcontact_service\u001b[0m\u001b[1;33m(\u001b[0m\u001b[0mresolved_name\u001b[0m\u001b[1;33m)\u001b[0m\u001b[1;33m:\u001b[0m\u001b[1;33m\u001b[0m\u001b[0m\n\u001b[0;32m    148\u001b[0m                     \u001b[1;32mreturn\u001b[0m\u001b[1;33m\u001b[0m\u001b[0m\n\u001b[1;32m--> 149\u001b[1;33m                 \u001b[0mtime\u001b[0m\u001b[1;33m.\u001b[0m\u001b[0msleep\u001b[0m\u001b[1;33m(\u001b[0m\u001b[1;36m0.3\u001b[0m\u001b[1;33m)\u001b[0m\u001b[1;33m\u001b[0m\u001b[0m\n\u001b[0m\u001b[0;32m    150\u001b[0m             \u001b[1;32mexcept\u001b[0m \u001b[0mKeyboardInterrupt\u001b[0m\u001b[1;33m:\u001b[0m\u001b[1;33m\u001b[0m\u001b[0m\n\u001b[0;32m    151\u001b[0m                 \u001b[1;31m# re-raise\u001b[0m\u001b[1;33m\u001b[0m\u001b[1;33m\u001b[0m\u001b[0m\n",
      "\u001b[1;31mKeyboardInterrupt\u001b[0m: "
     ]
    }
   ],
   "source": [
    "srv = rospy.ServiceProxy('thr/get_carry_pose', GetCarryPose)\n",
    "rospy.wait_for_service('thr/get_carry_pose')\n",
    "tfl = tf.TransformListener()"
   ]
  },
  {
   "cell_type": "code",
   "execution_count": 13,
   "metadata": {
    "collapsed": false
   },
   "outputs": [],
   "source": [
    "ObjectTGripper = tfl.lookupTransform('shapeo', 'right_gripper', rospy.Time(0))"
   ]
  },
  {
   "cell_type": "code",
   "execution_count": 14,
   "metadata": {
    "collapsed": false
   },
   "outputs": [
    {
     "data": {
      "text/plain": [
       "((-0.039633793548917884, -0.0058272953891080614, 0.06672552362895134),\n",
       " (0.7284606267128245,\n",
       "  0.6053606642424952,\n",
       "  -0.12075812581014464,\n",
       "  0.29715493697373624))"
      ]
     },
     "execution_count": 14,
     "metadata": {},
     "output_type": "execute_result"
    }
   ],
   "source": [
    "ObjectTGripper"
   ]
  },
  {
   "cell_type": "markdown",
   "metadata": {},
   "source": [
    "## Defintion of functions"
   ]
  },
  {
   "cell_type": "code",
   "execution_count": 17,
   "metadata": {
    "collapsed": false
   },
   "outputs": [],
   "source": [
    "def get_handover_location(method):\n",
    "    req = GetCarryPoseRequest()\n",
    "    req.object = '/shapeo'\n",
    "    req.laterality = 'right'\n",
    "    req.location = 'ellipse'\n",
    "    res = srv(req)\n",
    "    # express the result in VREP frame\n",
    "    VrepTBase = tfl.lookupTransform('vrep_frame', 'base', rospy.Time(0))\n",
    "    GripperTVrep = tfl.lookupTransform('right_gripper', 'vrep_tip', rospy.Time(0))\n",
    "    # apply chain rule of transformation\n",
    "    robot_pose = transformations.multiply_transform(VrepTBase, res.object_pose)\n",
    "    robot_pose = transformations.multiply_transform(robot_pose, ObjectTGripper)\n",
    "    robot_pose = transformations.multiply_transform(robot_pose, GripperTVrep)\n",
    "    return robot_pose"
   ]
  },
  {
   "cell_type": "code",
   "execution_count": 16,
   "metadata": {
    "collapsed": false
   },
   "outputs": [],
   "source": [
    "def convert_to_string(pose):\n",
    "    # create the string of the pose to write in the textfile\n",
    "    pose_str = ''\n",
    "    for lists in pose:\n",
    "        for value in lists:\n",
    "            pose_str += str(value) + '\\t' \n",
    "    pose_str += '\\n'\n",
    "    return pose_str"
   ]
  },
  {
   "cell_type": "markdown",
   "metadata": {},
   "source": [
    "## Create table of hip positions "
   ]
  },
  {
   "cell_type": "code",
   "execution_count": 6,
   "metadata": {
    "collapsed": false
   },
   "outputs": [],
   "source": [
    "hip_corners = []\n",
    "# get the 4 corners of the grid by asking the human to move between them\n",
    "for i in range(4):\n",
    "    rospy.sleep(5)\n",
    "    hip_corners.append(get_handover_location('reba'))\n",
    "    hip_corners.append(get_handover_location('relative'))\n",
    "    os.system('beep')\n",
    "# keep the same rotation\n",
    "rotation = hip_corners[0][1] "
   ]
  },
  {
   "cell_type": "code",
   "execution_count": 7,
   "metadata": {
    "collapsed": false
   },
   "outputs": [],
   "source": [
    "hip_pose_grid = []\n",
    "# fill the hip grid by interpolation\n",
    "nb_cols = 10\n",
    "nb_rows = 4\n",
    "l1 = linear_3d_interpolation(hip_corners[0][0], hip_corners[2][0], nb_rows)\n",
    "l2 = linear_3d_interpolation(hip_corners[1][0], hip_corners[3][0], nb_rows)\n",
    "for i in range(nb_rows):\n",
    "    row = linear_3d_interpolation(l1[i], l2[i], nb_cols)\n",
    "    hip_pose_grid.append([])\n",
    "    for trans in row:\n",
    "        hip_pose_grid[i].append([trans,rotation])"
   ]
  },
  {
   "cell_type": "markdown",
   "metadata": {},
   "source": [
    "## Calculate corresponding handover table"
   ]
  },
  {
   "cell_type": "code",
   "execution_count": 8,
   "metadata": {
    "collapsed": false
   },
   "outputs": [],
   "source": [
    "hand_over_grid = []\n",
    "for i in range(2):\n",
    "    hand_over_grid.append([])\n",
    "    for hip_vectors in hip_pose_grid:\n",
    "        for hip_poses in hip_vectors:\n",
    "            pose = get_handover_location(hip_poses, reba_service, i)\n",
    "            hand_over_grid[i].append(transformations.pose_to_list(pose))"
   ]
  },
  {
   "cell_type": "markdown",
   "metadata": {},
   "source": [
    "## Pulbish them to check result in Rviz"
   ]
  },
  {
   "cell_type": "code",
   "execution_count": 9,
   "metadata": {
    "collapsed": false
   },
   "outputs": [],
   "source": [
    "tfb = tf.TransformBroadcaster()"
   ]
  },
  {
   "cell_type": "code",
   "execution_count": 11,
   "metadata": {
    "collapsed": false
   },
   "outputs": [
    {
     "ename": "KeyboardInterrupt",
     "evalue": "",
     "output_type": "error",
     "traceback": [
      "\u001b[0;31m---------------------------------------------------------------------------\u001b[0m\n\u001b[0;31mKeyboardInterrupt\u001b[0m                         Traceback (most recent call last)",
      "\u001b[0;32m<ipython-input-11-29ecd380adbc>\u001b[0m in \u001b[0;36m<module>\u001b[0;34m()\u001b[0m\n\u001b[1;32m      4\u001b[0m     \u001b[0;32mfor\u001b[0m \u001b[0mi\u001b[0m \u001b[0;32min\u001b[0m \u001b[0mrange\u001b[0m\u001b[0;34m(\u001b[0m\u001b[0mlen\u001b[0m\u001b[0;34m(\u001b[0m\u001b[0mhand_over_grid\u001b[0m\u001b[0;34m[\u001b[0m\u001b[0mside\u001b[0m\u001b[0;34m]\u001b[0m\u001b[0;34m)\u001b[0m\u001b[0;34m)\u001b[0m\u001b[0;34m:\u001b[0m\u001b[0;34m\u001b[0m\u001b[0m\n\u001b[1;32m      5\u001b[0m         \u001b[0mtfb\u001b[0m\u001b[0;34m.\u001b[0m\u001b[0msendTransform\u001b[0m\u001b[0;34m(\u001b[0m\u001b[0mhand_over_grid\u001b[0m\u001b[0;34m[\u001b[0m\u001b[0mside\u001b[0m\u001b[0;34m]\u001b[0m\u001b[0;34m[\u001b[0m\u001b[0mi\u001b[0m\u001b[0;34m]\u001b[0m\u001b[0;34m[\u001b[0m\u001b[0;36m0\u001b[0m\u001b[0;34m]\u001b[0m\u001b[0;34m,\u001b[0m\u001b[0mhand_over_grid\u001b[0m\u001b[0;34m[\u001b[0m\u001b[0mside\u001b[0m\u001b[0;34m]\u001b[0m\u001b[0;34m[\u001b[0m\u001b[0mi\u001b[0m\u001b[0;34m]\u001b[0m\u001b[0;34m[\u001b[0m\u001b[0;36m1\u001b[0m\u001b[0;34m]\u001b[0m\u001b[0;34m,\u001b[0m\u001b[0mrospy\u001b[0m\u001b[0;34m.\u001b[0m\u001b[0mTime\u001b[0m\u001b[0;34m.\u001b[0m\u001b[0mnow\u001b[0m\u001b[0;34m(\u001b[0m\u001b[0;34m)\u001b[0m\u001b[0;34m,\u001b[0m\u001b[0;34m'/vrep/handover/'\u001b[0m\u001b[0;34m+\u001b[0m\u001b[0mstr\u001b[0m\u001b[0;34m(\u001b[0m\u001b[0mi\u001b[0m\u001b[0;34m)\u001b[0m\u001b[0;34m,\u001b[0m\u001b[0;34m'/vrep_frame'\u001b[0m\u001b[0;34m)\u001b[0m\u001b[0;34m\u001b[0m\u001b[0m\n\u001b[0;32m----> 6\u001b[0;31m     \u001b[0mrate\u001b[0m\u001b[0;34m.\u001b[0m\u001b[0msleep\u001b[0m\u001b[0;34m(\u001b[0m\u001b[0;34m)\u001b[0m\u001b[0;34m\u001b[0m\u001b[0m\n\u001b[0m",
      "\u001b[0;32m/opt/ros/indigo/lib/python2.7/dist-packages/rospy/timer.pyc\u001b[0m in \u001b[0;36msleep\u001b[0;34m(self)\u001b[0m\n\u001b[1;32m     97\u001b[0m         \"\"\"\n\u001b[1;32m     98\u001b[0m         \u001b[0mcurr_time\u001b[0m \u001b[0;34m=\u001b[0m \u001b[0mrospy\u001b[0m\u001b[0;34m.\u001b[0m\u001b[0mrostime\u001b[0m\u001b[0;34m.\u001b[0m\u001b[0mget_rostime\u001b[0m\u001b[0;34m(\u001b[0m\u001b[0;34m)\u001b[0m\u001b[0;34m\u001b[0m\u001b[0m\n\u001b[0;32m---> 99\u001b[0;31m         \u001b[0msleep\u001b[0m\u001b[0;34m(\u001b[0m\u001b[0mself\u001b[0m\u001b[0;34m.\u001b[0m\u001b[0m_remaining\u001b[0m\u001b[0;34m(\u001b[0m\u001b[0mcurr_time\u001b[0m\u001b[0;34m)\u001b[0m\u001b[0;34m)\u001b[0m\u001b[0;34m\u001b[0m\u001b[0m\n\u001b[0m\u001b[1;32m    100\u001b[0m         \u001b[0mself\u001b[0m\u001b[0;34m.\u001b[0m\u001b[0mlast_time\u001b[0m \u001b[0;34m=\u001b[0m \u001b[0mself\u001b[0m\u001b[0;34m.\u001b[0m\u001b[0mlast_time\u001b[0m \u001b[0;34m+\u001b[0m \u001b[0mself\u001b[0m\u001b[0;34m.\u001b[0m\u001b[0msleep_dur\u001b[0m\u001b[0;34m\u001b[0m\u001b[0m\n\u001b[1;32m    101\u001b[0m \u001b[0;34m\u001b[0m\u001b[0m\n",
      "\u001b[0;32m/opt/ros/indigo/lib/python2.7/dist-packages/rospy/timer.pyc\u001b[0m in \u001b[0;36msleep\u001b[0;34m(duration)\u001b[0m\n\u001b[1;32m    123\u001b[0m             \u001b[0;32mreturn\u001b[0m\u001b[0;34m\u001b[0m\u001b[0m\n\u001b[1;32m    124\u001b[0m         \u001b[0;32melse\u001b[0m\u001b[0;34m:\u001b[0m\u001b[0;34m\u001b[0m\u001b[0m\n\u001b[0;32m--> 125\u001b[0;31m             \u001b[0mrospy\u001b[0m\u001b[0;34m.\u001b[0m\u001b[0mrostime\u001b[0m\u001b[0;34m.\u001b[0m\u001b[0mwallsleep\u001b[0m\u001b[0;34m(\u001b[0m\u001b[0mduration\u001b[0m\u001b[0;34m)\u001b[0m\u001b[0;34m\u001b[0m\u001b[0m\n\u001b[0m\u001b[1;32m    126\u001b[0m     \u001b[0;32melse\u001b[0m\u001b[0;34m:\u001b[0m\u001b[0;34m\u001b[0m\u001b[0m\n\u001b[1;32m    127\u001b[0m         \u001b[0minitial_rostime\u001b[0m \u001b[0;34m=\u001b[0m \u001b[0mrospy\u001b[0m\u001b[0;34m.\u001b[0m\u001b[0mrostime\u001b[0m\u001b[0;34m.\u001b[0m\u001b[0mget_rostime\u001b[0m\u001b[0;34m(\u001b[0m\u001b[0;34m)\u001b[0m\u001b[0;34m\u001b[0m\u001b[0m\n",
      "\u001b[0;32m/opt/ros/indigo/lib/python2.7/dist-packages/rospy/rostime.pyc\u001b[0m in \u001b[0;36mwallsleep\u001b[0;34m(duration)\u001b[0m\n\u001b[1;32m    294\u001b[0m             \u001b[0;32mpass\u001b[0m\u001b[0;34m\u001b[0m\u001b[0m\n\u001b[1;32m    295\u001b[0m     \u001b[0;32melse\u001b[0m\u001b[0;34m:\u001b[0m\u001b[0;34m\u001b[0m\u001b[0m\n\u001b[0;32m--> 296\u001b[0;31m         \u001b[0mtime\u001b[0m\u001b[0;34m.\u001b[0m\u001b[0msleep\u001b[0m\u001b[0;34m(\u001b[0m\u001b[0mduration\u001b[0m\u001b[0;34m)\u001b[0m\u001b[0;34m\u001b[0m\u001b[0m\n\u001b[0m",
      "\u001b[0;31mKeyboardInterrupt\u001b[0m: "
     ]
    }
   ],
   "source": [
    "side = 0\n",
    "rate = rospy.Rate(10)\n",
    "while not rospy.is_shutdown():\n",
    "    for i in range(len(hand_over_grid[side])):\n",
    "        tfb.sendTransform(hand_over_grid[side][i][0],hand_over_grid[side][i][1],rospy.Time.now(),'/vrep/handover/'+str(i),'/vrep_frame')\n",
    "    rate.sleep()"
   ]
  },
  {
   "cell_type": "markdown",
   "metadata": {},
   "source": [
    "## Write result to a text file"
   ]
  },
  {
   "cell_type": "code",
   "execution_count": 12,
   "metadata": {
    "collapsed": false
   },
   "outputs": [],
   "source": [
    "pose_str = ''\n",
    "for pose in hand_over_grid[0]:\n",
    "    pose_str += convert_to_string(pose)\n",
    "# write the string to the file\n",
    "with open('/tmp/reba_table_left.txt', 'w') as f:\n",
    "    f.write(pose_str)"
   ]
  },
  {
   "cell_type": "code",
   "execution_count": 13,
   "metadata": {
    "collapsed": false
   },
   "outputs": [],
   "source": [
    "pose_str = ''\n",
    "for pose in hand_over_grid[1]:\n",
    "    pose_str += convert_to_string(pose)\n",
    "# write the string to the file\n",
    "with open('/tmp/reba_table_right.txt', 'w') as f:\n",
    "    f.write(pose_str)"
   ]
  },
  {
   "cell_type": "code",
   "execution_count": null,
   "metadata": {
    "collapsed": false
   },
   "outputs": [],
   "source": []
  }
 ],
 "metadata": {
  "kernelspec": {
   "display_name": "Python 2",
   "language": "python",
   "name": "python2"
  },
  "language_info": {
   "codemirror_mode": {
    "name": "ipython",
    "version": 2
   },
   "file_extension": ".py",
   "mimetype": "text/x-python",
   "name": "python",
   "nbconvert_exporter": "python",
   "pygments_lexer": "ipython2",
   "version": "2.7.6"
  }
 },
 "nbformat": 4,
 "nbformat_minor": 0
}
