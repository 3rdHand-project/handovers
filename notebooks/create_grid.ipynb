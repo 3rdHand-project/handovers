{
 "cells": [
  {
   "cell_type": "code",
   "execution_count": 1,
   "metadata": {
    "collapsed": false
   },
   "outputs": [],
   "source": [
    "import rospy\n",
    "from thr_infrastructure_msgs.srv import GetCarryPose, GetCarryPoseRequest\n",
    "import tf\n",
    "import os\n",
    "import transformations"
   ]
  },
  {
   "cell_type": "code",
   "execution_count": 2,
   "metadata": {
    "collapsed": false
   },
   "outputs": [],
   "source": [
    "rospy.init_node('create_grid')"
   ]
  },
  {
   "cell_type": "code",
   "execution_count": 4,
   "metadata": {
    "collapsed": false
   },
   "outputs": [],
   "source": [
    "srv = rospy.ServiceProxy('thr/get_carry_pose', GetCarryPose)\n",
    "rospy.wait_for_service('thr/get_carry_pose')\n",
    "tfl = tf.TransformListener()"
   ]
  },
  {
   "cell_type": "code",
   "execution_count": 5,
   "metadata": {
    "collapsed": false
   },
   "outputs": [],
   "source": [
    "ObjectTGripper = tfl.lookupTransform('shapeo', 'right_gripper', rospy.Time(0))"
   ]
  },
  {
   "cell_type": "code",
   "execution_count": 6,
   "metadata": {
    "collapsed": false
   },
   "outputs": [
    {
     "data": {
      "text/plain": [
       "((-0.029695486115008607, 0.0009715081584448226, 0.07400247201558541),\n",
       " (0.6929710587972967,\n",
       "  0.6134725228368815,\n",
       "  -0.061746930110658856,\n",
       "  0.3736708337767544))"
      ]
     },
     "execution_count": 6,
     "metadata": {},
     "output_type": "execute_result"
    }
   ],
   "source": [
    "ObjectTGripper"
   ]
  },
  {
   "cell_type": "markdown",
   "metadata": {},
   "source": [
    "## Defintion of functions"
   ]
  },
  {
   "cell_type": "code",
   "execution_count": 39,
   "metadata": {
    "collapsed": false
   },
   "outputs": [],
   "source": [
    "def get_handover_location(method):\n",
    "    success = False\n",
    "    while not success:\n",
    "        rospy.sleep(0.1)\n",
    "        req = GetCarryPoseRequest()\n",
    "        req.object = '/shapeo'\n",
    "        req.location = 'star'\n",
    "        req.method = method\n",
    "        res = srv(req)\n",
    "        success = res.success\n",
    "    # express the result in VREP frame\n",
    "    VrepTBase = tfl.lookupTransform('vrep_frame', 'base', rospy.Time(0))\n",
    "    GripperTVrep = tfl.lookupTransform('right_gripper', 'vrep_tip', rospy.Time(0))\n",
    "    BaseTObject = transformations.pose_to_list(res.object_pose)\n",
    "    # apply chain rule of transformation\n",
    "    robot_pose = transformations.multiply_transform(VrepTBase, BaseTObject)\n",
    "    robot_pose = transformations.multiply_transform(robot_pose, ObjectTGripper)\n",
    "    robot_pose = transformations.multiply_transform(robot_pose, GripperTVrep)\n",
    "    return robot_pose"
   ]
  },
  {
   "cell_type": "code",
   "execution_count": 40,
   "metadata": {
    "collapsed": false
   },
   "outputs": [],
   "source": [
    "def convert_to_string(pose):\n",
    "    # create the string of the pose to write in the textfile\n",
    "    pose_str = ''\n",
    "    for lists in pose:\n",
    "        for value in lists:\n",
    "            pose_str += str(value) + '\\t' \n",
    "    pose_str += '\\n'\n",
    "    return pose_str"
   ]
  },
  {
   "cell_type": "markdown",
   "metadata": {},
   "source": [
    "## Create table of hip positions "
   ]
  },
  {
   "cell_type": "code",
   "execution_count": 41,
   "metadata": {
    "collapsed": false
   },
   "outputs": [],
   "source": [
    "grid_corners = []\n",
    "# get the 4 corners of the grid by asking the human to move between them\n",
    "for i in range(4):\n",
    "    rospy.sleep(5)\n",
    "    grid_corners.append(get_handover_location('reba'))\n",
    "    grid_corners.append(get_handover_location('relative'))\n",
    "    os.system('beep')\n",
    "    rospy.sleep(0.5)\n",
    "    os.system('beep')"
   ]
  },
  {
   "cell_type": "markdown",
   "metadata": {},
   "source": [
    "## Pulbish them to check result in Rviz"
   ]
  },
  {
   "cell_type": "code",
   "execution_count": 42,
   "metadata": {
    "collapsed": false
   },
   "outputs": [],
   "source": [
    "tfb = tf.TransformBroadcaster()"
   ]
  },
  {
   "cell_type": "code",
   "execution_count": null,
   "metadata": {
    "collapsed": false
   },
   "outputs": [],
   "source": [
    "rate = rospy.Rate(10)\n",
    "while not rospy.is_shutdown():\n",
    "    for i in range(len(grid_corners)):\n",
    "        tfb.sendTransform(grid_corners[i][0], grid_corners[i][1], rospy.Time.now(),\n",
    "                          '/vrep/corner/'+str(i), '/vrep_frame')\n",
    "    rate.sleep()"
   ]
  },
  {
   "cell_type": "markdown",
   "metadata": {},
   "source": [
    "## Write result to a text file"
   ]
  },
  {
   "cell_type": "code",
   "execution_count": 12,
   "metadata": {
    "collapsed": false
   },
   "outputs": [],
   "source": [
    "pose_str = ''\n",
    "for pose in hand_over_grid[0]:\n",
    "    pose_str += convert_to_string(pose)\n",
    "# write the string to the file\n",
    "with open('/tmp/reba_table_left.txt', 'w') as f:\n",
    "    f.write(pose_str)"
   ]
  },
  {
   "cell_type": "code",
   "execution_count": 13,
   "metadata": {
    "collapsed": false
   },
   "outputs": [],
   "source": [
    "pose_str = ''\n",
    "for pose in hand_over_grid[1]:\n",
    "    pose_str += convert_to_string(pose)\n",
    "# write the string to the file\n",
    "with open('/tmp/reba_table_right.txt', 'w') as f:\n",
    "    f.write(pose_str)"
   ]
  },
  {
   "cell_type": "code",
   "execution_count": null,
   "metadata": {
    "collapsed": false
   },
   "outputs": [],
   "source": []
  }
 ],
 "metadata": {
  "kernelspec": {
   "display_name": "Python 2",
   "language": "python",
   "name": "python2"
  },
  "language_info": {
   "codemirror_mode": {
    "name": "ipython",
    "version": 2
   },
   "file_extension": ".py",
   "mimetype": "text/x-python",
   "name": "python",
   "nbconvert_exporter": "python",
   "pygments_lexer": "ipython2",
   "version": "2.7.6"
  }
 },
 "nbformat": 4,
 "nbformat_minor": 0
}
